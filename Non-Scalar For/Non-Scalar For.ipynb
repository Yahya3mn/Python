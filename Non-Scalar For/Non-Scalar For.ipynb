{
 "cells": [
  {
   "cell_type": "markdown",
   "id": "de7fc50a",
   "metadata": {},
   "source": [
    "# Non-Scalar Veri Tiplerinde for"
   ]
  },
  {
   "cell_type": "markdown",
   "id": "da239f13",
   "metadata": {},
   "source": [
    "    for döngüsünü işlerken for <değişken> in <obje> yapısında, her iterasyonda değişkenin tek tek objenin elemanlarına eşit olduğunu konuşmuştuk.\n",
    "\n",
    "\n",
    "    list, tuple, dictionary non-scalar veri tiplerini gördük ve bunların hepsinin içsel bir yapısı var, şimdi bunların   elemanlarında for kullanarak iterasyon yapmaya bakalım."
   ]
  },
  {
   "cell_type": "markdown",
   "id": "1c2a8a75",
   "metadata": {},
   "source": [
    "### Listelerde İterasyon\n",
    "    Diyelim ki öğrencilerin notlarını bir listede tutuyoruz."
   ]
  },
  {
   "cell_type": "code",
   "execution_count": 2,
   "id": "85467f69",
   "metadata": {},
   "outputs": [],
   "source": [
    "notlar = [90, 72, 81, 77]"
   ]
  },
  {
   "cell_type": "code",
   "execution_count": 3,
   "id": "3c0074e5",
   "metadata": {},
   "outputs": [
    {
     "name": "stdout",
     "output_type": "stream",
     "text": [
      "90\n",
      "72\n",
      "81\n",
      "77\n"
     ]
    }
   ],
   "source": [
    "for e in notlar:\n",
    "    print(e)"
   ]
  },
  {
   "cell_type": "markdown",
   "id": "faa0b4b3",
   "metadata": {},
   "source": [
    "    Bu sınıftaki not ortalamasına bakmak istiyor olabilirim."
   ]
  },
  {
   "cell_type": "code",
   "execution_count": 5,
   "id": "2daa2d10",
   "metadata": {},
   "outputs": [
    {
     "name": "stdout",
     "output_type": "stream",
     "text": [
      "80.0\n"
     ]
    }
   ],
   "source": [
    "t = 0\n",
    "\n",
    "for e in notlar:\n",
    "    t += e\n",
    "ort = t / len(notlar)\n",
    "print(ort)    "
   ]
  },
  {
   "cell_type": "markdown",
   "id": "1b0593fc",
   "metadata": {},
   "source": [
    "    Burada e 'nin özel bir anlamı yok, sadece döngünün içinde onu kullanırken o adla referans veriyorum, adı penguen de olabilirdi."
   ]
  },
  {
   "cell_type": "code",
   "execution_count": 7,
   "id": "b6a312ef",
   "metadata": {},
   "outputs": [
    {
     "name": "stdout",
     "output_type": "stream",
     "text": [
      "Ortalama :  80.0\n"
     ]
    }
   ],
   "source": [
    "t = 0\n",
    "\n",
    "for penguen in notlar:\n",
    "    t += penguen\n",
    "\n",
    "ortalama = t / len(notlar)\n",
    "print(\"Ortalama : \",ortalama)"
   ]
  },
  {
   "cell_type": "markdown",
   "id": "edf22d1c",
   "metadata": {},
   "source": [
    "    Bunun aynısını range() fonksiyonu ile de yapabilirdik.\n",
    "\n",
    "\n",
    "    for e in notlar diyince ilk iterasyonda enin değeri 90, ikincisinde 72... olarak devam etti.\n",
    "\n",
    "\n",
    "    range() ile indexlerde iterasyon yapıp indexing ile değerlerine de ulaşabilirdim. (Range belirli bir listenin indexlerinde iterasyon yapmamı sağlamıyor, range(len(notlar)) diyince bize 0,1,2.. len(notlar)-1 sayılarını verecek, bunlar da listenin indexleriyle örtüşüyor, yoksa range() index verir diye bir şey yok.)"
   ]
  },
  {
   "cell_type": "code",
   "execution_count": 8,
   "id": "d1aa8768",
   "metadata": {},
   "outputs": [
    {
     "name": "stdout",
     "output_type": "stream",
     "text": [
      "İterasyon :  0\n",
      "İterasyon :  1\n",
      "İterasyon :  2\n",
      "İterasyon :  3\n"
     ]
    }
   ],
   "source": [
    "for i in range(4):\n",
    "    print(\"İterasyon : \", i)"
   ]
  },
  {
   "cell_type": "code",
   "execution_count": 9,
   "id": "56c43ba6",
   "metadata": {},
   "outputs": [
    {
     "name": "stdout",
     "output_type": "stream",
     "text": [
      "Ortalama :  80.0\n"
     ]
    }
   ],
   "source": [
    "t = 0\n",
    "\n",
    "for i in range(len(notlar)):\n",
    "    t += notlar[i]\n",
    "    \n",
    "ortalama = t / len(notlar)\n",
    "\n",
    "print(\"Ortalama : \", ortalama)"
   ]
  },
  {
   "cell_type": "markdown",
   "id": "afb6f1b4",
   "metadata": {},
   "source": [
    "    Diyelim ki öğretmen farketti ki herkese 5 puan az vermiş, herkesin puanını 5 arttırmak istiyor, bunu direkt listenin elemanlarında iterasyon yaparak yapamam. Listenin indexlerine erişip o değeri güncellemem lazım."
   ]
  },
  {
   "cell_type": "code",
   "execution_count": 10,
   "id": "848c4d13",
   "metadata": {},
   "outputs": [
    {
     "name": "stdout",
     "output_type": "stream",
     "text": [
      "90\n",
      "72\n",
      "81\n",
      "77\n"
     ]
    }
   ],
   "source": [
    "notlar = [90, 72, 81, 77]\n",
    "for e in notlar:\n",
    "    print(e)"
   ]
  },
  {
   "cell_type": "markdown",
   "id": "7fb26fa3",
   "metadata": {},
   "source": [
    "    Buradaki e sadece notların içindeki değerler,e 'yi değiştirmek listenin elemanlarını değiştirmez!"
   ]
  },
  {
   "cell_type": "code",
   "execution_count": 11,
   "id": "34e6d12b",
   "metadata": {},
   "outputs": [
    {
     "name": "stdout",
     "output_type": "stream",
     "text": [
      "90\n",
      "100\n",
      "[90, 72, 81, 77]\n",
      "---------\n",
      "72\n",
      "82\n",
      "[90, 72, 81, 77]\n",
      "---------\n",
      "81\n",
      "91\n",
      "[90, 72, 81, 77]\n",
      "---------\n",
      "77\n",
      "87\n",
      "[90, 72, 81, 77]\n",
      "---------\n",
      "[90, 72, 81, 77]\n"
     ]
    }
   ],
   "source": [
    "for e in notlar:\n",
    "    print(e)\n",
    "    e = e + 10\n",
    "    print(e)\n",
    "    print(notlar)\n",
    "    print(\"---------\")\n",
    "    \n",
    "print(notlar)"
   ]
  },
  {
   "cell_type": "markdown",
   "id": "79a9f7e3",
   "metadata": {},
   "source": [
    "    Güncelleme mantığını range() ile indexlerinde iterasyon yaparak yapacağım."
   ]
  },
  {
   "cell_type": "code",
   "execution_count": 12,
   "id": "b5677a11",
   "metadata": {},
   "outputs": [
    {
     "data": {
      "text/plain": [
       "[95, 77, 86, 82]"
      ]
     },
     "execution_count": 12,
     "metadata": {},
     "output_type": "execute_result"
    }
   ],
   "source": [
    "for i in range(len(notlar)):\n",
    "    notlar[i] += 5\n",
    "    \n",
    "notlar"
   ]
  },
  {
   "cell_type": "markdown",
   "id": "a54ef55f",
   "metadata": {},
   "source": [
    "    Hadi biraz da continue mantığının alıştırmasını yapmış olalım. Diyelim ki öğretmen 2. öğrencinin kağıdını doğru okumuş, 2. öğrenci (index 1'deki) hariç hepsinin değerini 5 arttıracak:"
   ]
  },
  {
   "cell_type": "code",
   "execution_count": 13,
   "id": "28ffd0ba",
   "metadata": {},
   "outputs": [],
   "source": [
    "notlar = [90,72,81,77]"
   ]
  },
  {
   "cell_type": "code",
   "execution_count": 15,
   "id": "afd84163",
   "metadata": {},
   "outputs": [
    {
     "name": "stdout",
     "output_type": "stream",
     "text": [
      "[95, 72, 86, 82]\n"
     ]
    }
   ],
   "source": [
    "for i in range(len(notlar)):\n",
    "    if i==1:\n",
    "        continue\n",
    "    notlar[i] += 5\n",
    "print(notlar)"
   ]
  },
  {
   "cell_type": "markdown",
   "id": "65707e58",
   "metadata": {},
   "source": [
    "    Şimdi de break egzersizi yapalım.\n",
    "\n",
    "\n",
    "    Diyelim ki bir listenin içinde belirli bir eleman var mı diye kontrol etmek istiyoruz. Bulunca aramaya devam etmeyeceğim. Devam etme mantığını break ile sağlayacağım.\n",
    "\n",
    "\n",
    "    İlk kullanıcıya hangi sayıyı aradığını soracağız, sonra bu sayı var mı kontrol edeceğiz."
   ]
  },
  {
   "cell_type": "code",
   "execution_count": 16,
   "id": "79c7b9d3",
   "metadata": {},
   "outputs": [
    {
     "name": "stdout",
     "output_type": "stream",
     "text": [
      "Hangi sayıyı kontrol edeyim? : 100\n",
      "2\n",
      "3\n",
      "40\n",
      "100\n",
      "Buldum!\n"
     ]
    }
   ],
   "source": [
    "x = int(input(\"Hangi sayıyı kontrol edeyim? : \"))\n",
    "\n",
    "l = [2,3,40,100,10,1]\n",
    "\n",
    "for e in l:\n",
    "    print(e) # iterasyon break ile çıkmış mı görelim mi diye\n",
    "    \n",
    "    if e == x:\n",
    "        print(\"Buldum!\")\n",
    "        break"
   ]
  },
  {
   "cell_type": "markdown",
   "id": "6b278206",
   "metadata": {},
   "source": [
    "### Tuple'lerda İterasyon\n",
    "\n",
    "    Listelerde iterasyondan hiç bir farkı yok. Evet kısa bir açıklama oldu ama durum bu :) . Değerlerini güncelleyemiyoruz ama bu zaten döngüden bağımsız bir durum oluyor."
   ]
  },
  {
   "cell_type": "code",
   "execution_count": 17,
   "id": "202ff63a",
   "metadata": {},
   "outputs": [
    {
     "name": "stdout",
     "output_type": "stream",
     "text": [
      "1\n",
      "2\n",
      "3\n",
      "4\n"
     ]
    }
   ],
   "source": [
    "t = (1,2,3,4)\n",
    "\n",
    "for e in t:\n",
    "    print(e)"
   ]
  },
  {
   "cell_type": "code",
   "execution_count": 18,
   "id": "d21a0fcf",
   "metadata": {},
   "outputs": [
    {
     "name": "stdout",
     "output_type": "stream",
     "text": [
      "10\n"
     ]
    }
   ],
   "source": [
    "toplam = 0\n",
    "\n",
    "for e in t:\n",
    "    toplam += e\n",
    "    \n",
    "print(toplam)"
   ]
  },
  {
   "cell_type": "code",
   "execution_count": 19,
   "id": "707b65ff",
   "metadata": {},
   "outputs": [
    {
     "name": "stdout",
     "output_type": "stream",
     "text": [
      "1\n",
      "2\n",
      "3\n",
      "4\n"
     ]
    }
   ],
   "source": [
    "for i in range(len(t)):\n",
    "    print(t[i])"
   ]
  },
  {
   "cell_type": "code",
   "execution_count": 20,
   "id": "1a6cce51",
   "metadata": {},
   "outputs": [
    {
     "ename": "TypeError",
     "evalue": "'tuple' object does not support item assignment",
     "output_type": "error",
     "traceback": [
      "\u001b[1;31m---------------------------------------------------------------------------\u001b[0m",
      "\u001b[1;31mTypeError\u001b[0m                                 Traceback (most recent call last)",
      "Cell \u001b[1;32mIn[20], line 2\u001b[0m\n\u001b[0;32m      1\u001b[0m \u001b[38;5;28;01mfor\u001b[39;00m i \u001b[38;5;129;01min\u001b[39;00m \u001b[38;5;28mrange\u001b[39m(\u001b[38;5;28mlen\u001b[39m(t)):\n\u001b[1;32m----> 2\u001b[0m     t[i] \u001b[38;5;241m+\u001b[39m\u001b[38;5;241m=\u001b[39m \u001b[38;5;241m2\u001b[39m\n",
      "\u001b[1;31mTypeError\u001b[0m: 'tuple' object does not support item assignment"
     ]
    }
   ],
   "source": [
    "for i in range(len(t)):\n",
    "    t[i] += 2"
   ]
  },
  {
   "cell_type": "markdown",
   "id": "bb3a280f",
   "metadata": {},
   "source": [
    "### Dictionary'lerde İterasyon\n",
    "\n",
    "\n",
    "    Burada durum biraz farklı. Default olarak elemanlarında dolaş diyince key 'lerde iterasyon yapıyor. Zaten index mantığı olmadığı için range() ile yapmak çoğu zaman karşımıza çıkmaz.\n"
   ]
  },
  {
   "cell_type": "code",
   "execution_count": 21,
   "id": "8921c6e2",
   "metadata": {},
   "outputs": [
    {
     "name": "stdout",
     "output_type": "stream",
     "text": [
      "student_1\n",
      "Student_2\n",
      "Student_3\n"
     ]
    }
   ],
   "source": [
    "d = {\"student_1\": [90, 89], \"Student_2\": [80,83], \"Student_3\": [72,71]}\n",
    "\n",
    "for e in d:\n",
    "    print(e)"
   ]
  },
  {
   "cell_type": "markdown",
   "id": "f7e8ce0f",
   "metadata": {},
   "source": [
    "    Değerlerine ulaşmak istiyorsam şöyle yapabilirdim:"
   ]
  },
  {
   "cell_type": "code",
   "execution_count": 22,
   "id": "8b9a5f38",
   "metadata": {},
   "outputs": [
    {
     "name": "stdout",
     "output_type": "stream",
     "text": [
      "[90, 89]\n",
      "[80, 83]\n",
      "[72, 71]\n"
     ]
    }
   ],
   "source": [
    "for e in d:\n",
    "    v = d[e]\n",
    "    print(v)"
   ]
  },
  {
   "cell_type": "markdown",
   "id": "77dcbbd0",
   "metadata": {},
   "source": [
    "    Veya d.values() diyerek value'lerında iterasyon yapabilirim. Burada for <değişken> in <obje> yapısında <değişken> int vs gibi şeyler değil liste gibi yapılar da olabilir iterasyon içerisinde, burada da öyle oldu.\n",
    "\n",
    "\n",
    "    bu .values() 'dan dolayı olan bir şey değil, dictionary'nin value'lerı int olsa böyle olmazdı."
   ]
  },
  {
   "cell_type": "code",
   "execution_count": 23,
   "id": "77dd499b",
   "metadata": {},
   "outputs": [
    {
     "name": "stdout",
     "output_type": "stream",
     "text": [
      "90\n",
      "80\n",
      "72\n"
     ]
    }
   ],
   "source": [
    "d = {\"student_1\": 90, \"student_2\": 80, \"student_3\": 72}\n",
    "\n",
    "for v in d.values():\n",
    "    print(v)"
   ]
  },
  {
   "cell_type": "code",
   "execution_count": 24,
   "id": "b2f6ffce",
   "metadata": {},
   "outputs": [
    {
     "name": "stdout",
     "output_type": "stream",
     "text": [
      "[90, 89]\n",
      "[80, 83]\n",
      "[72, 71]\n"
     ]
    }
   ],
   "source": [
    "d = {\"student_1\": [90,89], \"student_2\": [80,83], \"student_3\": [72,71]}\n",
    "\n",
    "for v in d.values():\n",
    "    print(v)"
   ]
  },
  {
   "cell_type": "markdown",
   "id": "cc6fb836",
   "metadata": {},
   "source": [
    "    Burada v, her iterasyonda int .\n",
    "\n",
    "\n",
    "    85'den fazla alan biri var mı diye bakmak istiyorum diyelim, ve bunun kim olduğunu (olduklarını) bulmak istiyorum."
   ]
  },
  {
   "cell_type": "code",
   "execution_count": 25,
   "id": "530da0be",
   "metadata": {},
   "outputs": [
    {
     "name": "stdout",
     "output_type": "stream",
     "text": [
      "student_1\n"
     ]
    }
   ],
   "source": [
    "d = {\"student_1\": 90, \"student_2\": 80, \"student_3\": 72}\n",
    "\n",
    "for k in d:\n",
    "    value = d[k]\n",
    "    \n",
    "    if value > 85:\n",
    "        print(k)"
   ]
  },
  {
   "cell_type": "markdown",
   "id": "867f388b",
   "metadata": {},
   "source": [
    "    Aynı anda hem key hem de value'larda iterasyon yapmak için:\n",
    "    \n",
    "\n",
    "    Variable unpacking konusunda bir tuple, liste gibi yapıların değerlerini birden çok değişkene bir seferde eşitlemeyi görmüştük.\n",
    "\n",
    "\n",
    "    Bunun aynısını iterasyonda da yapabiliriz."
   ]
  },
  {
   "cell_type": "code",
   "execution_count": 27,
   "id": "ff0e2d08",
   "metadata": {},
   "outputs": [
    {
     "name": "stdout",
     "output_type": "stream",
     "text": [
      "Key değeri :  student_1  Value değeri :  90\n",
      "Key değeri :  student_2  Value değeri :  80\n",
      "Key değeri :  student_3  Value değeri :  72\n"
     ]
    }
   ],
   "source": [
    "for k,v in d.items():\n",
    "    print(\"Key değeri : \", k, \" Value değeri : \", v)"
   ]
  }
 ],
 "metadata": {
  "kernelspec": {
   "display_name": "Python 3 (ipykernel)",
   "language": "python",
   "name": "python3"
  },
  "language_info": {
   "codemirror_mode": {
    "name": "ipython",
    "version": 3
   },
   "file_extension": ".py",
   "mimetype": "text/x-python",
   "name": "python",
   "nbconvert_exporter": "python",
   "pygments_lexer": "ipython3",
   "version": "3.10.9"
  }
 },
 "nbformat": 4,
 "nbformat_minor": 5
}
