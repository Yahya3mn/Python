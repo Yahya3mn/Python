{
 "cells": [
  {
   "cell_type": "markdown",
   "id": "84d5b24d",
   "metadata": {},
   "source": [
    "## Write a Python program to create a person class. Include attributes like name, country and date of birth. Implement a method to determine the person's age."
   ]
  },
  {
   "cell_type": "code",
   "execution_count": 1,
   "id": "18901924",
   "metadata": {},
   "outputs": [],
   "source": [
    "from datetime import date"
   ]
  },
  {
   "cell_type": "code",
   "execution_count": 9,
   "id": "77ef07c5",
   "metadata": {},
   "outputs": [
    {
     "name": "stdout",
     "output_type": "stream",
     "text": [
      "Person 1:\n",
      "Name: Ferdi Odilia\n",
      "Country: France\n",
      "Date of Birth: 1962-07-12\n",
      "Age: 61\n",
      "\n",
      "Person 2:\n",
      "Name: Shweta Maddox\n",
      "Country: Canada\n",
      "Date of Birth: 1982-10-20\n",
      "Age: 41\n",
      "\n",
      "Person 3:\n",
      "Name: Elizaveta Tilman\n",
      "Country: USA\n",
      "Date of Birth: 2000-01-01\n",
      "Age: 24\n"
     ]
    }
   ],
   "source": [
    "class Person:\n",
    "    \n",
    "    def __init__(self, name, country, date_of_birth):\n",
    "        self.name = name\n",
    "        self.country = country\n",
    "        self.date_of_birth = date_of_birth\n",
    "    \n",
    "    \n",
    "    def calculate_age(self):\n",
    "        today = date.today()\n",
    "        age = today.year - self.date_of_birth.year\n",
    "        if today < date(today.year, self.date_of_birth.month, self.date_of_birth.day):\n",
    "            age -= 1\n",
    "        return age\n",
    "    \n",
    "person1 = Person(\"Ferdi Odilia\", \"France\", date(1962, 7, 12))\n",
    "person2 = Person(\"Shweta Maddox\", \"Canada\", date(1982, 10, 20))\n",
    "person3 = Person(\"Elizaveta Tilman\", \"USA\", date(2000, 1, 1))\n",
    "\n",
    "\n",
    "print(\"Person 1:\")\n",
    "print(\"Name:\", person1.name)\n",
    "print(\"Country:\", person1.country)\n",
    "print(\"Date of Birth:\", person1.date_of_birth)\n",
    "print(\"Age:\", person1.calculate_age())\n",
    "\n",
    "print(\"\\nPerson 2:\")\n",
    "print(\"Name:\", person2.name)\n",
    "print(\"Country:\", person2.country)\n",
    "print(\"Date of Birth:\", person2.date_of_birth)\n",
    "print(\"Age:\", person2.calculate_age())\n",
    "\n",
    "print(\"\\nPerson 3:\")\n",
    "print(\"Name:\", person3.name)\n",
    "print(\"Country:\", person3.country)\n",
    "print(\"Date of Birth:\", person3.date_of_birth)\n",
    "print(\"Age:\", person3.calculate_age())    \n",
    "\n"
   ]
  }
 ],
 "metadata": {
  "kernelspec": {
   "display_name": "Python 3 (ipykernel)",
   "language": "python",
   "name": "python3"
  },
  "language_info": {
   "codemirror_mode": {
    "name": "ipython",
    "version": 3
   },
   "file_extension": ".py",
   "mimetype": "text/x-python",
   "name": "python",
   "nbconvert_exporter": "python",
   "pygments_lexer": "ipython3",
   "version": "3.10.9"
  }
 },
 "nbformat": 4,
 "nbformat_minor": 5
}
