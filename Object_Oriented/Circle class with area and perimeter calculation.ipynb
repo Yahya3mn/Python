{
 "cells": [
  {
   "cell_type": "markdown",
   "id": "c2b1b133",
   "metadata": {},
   "source": [
    "## Write a Python program to create a class representing a Circle. Include methods to calculate its area and perimeter."
   ]
  },
  {
   "cell_type": "code",
   "execution_count": 1,
   "id": "738d9f30",
   "metadata": {},
   "outputs": [],
   "source": [
    "import math"
   ]
  },
  {
   "cell_type": "code",
   "execution_count": 9,
   "id": "ae699735",
   "metadata": {},
   "outputs": [],
   "source": [
    "class Circle:\n",
    "    def __init__(self, radius):\n",
    "        self.radius = radius\n",
    "        \n",
    "    def calculate_circle_area(self):\n",
    "        return math.pi * self.radius**2\n",
    "    \n",
    "    def calculate_circle_paramete(self):\n",
    "        return 2 * math.pi * self.radius"
   ]
  },
  {
   "cell_type": "code",
   "execution_count": 10,
   "id": "f8975070",
   "metadata": {},
   "outputs": [
    {
     "name": "stdout",
     "output_type": "stream",
     "text": [
      "Enter the radius of the circle:5.7\n"
     ]
    }
   ],
   "source": [
    "radius = float(input(\"Enter the radius of the circle:\"))"
   ]
  },
  {
   "cell_type": "code",
   "execution_count": 11,
   "id": "cc96c488",
   "metadata": {},
   "outputs": [],
   "source": [
    "circle = Circle(radius)"
   ]
  },
  {
   "cell_type": "code",
   "execution_count": 12,
   "id": "cf00a910",
   "metadata": {},
   "outputs": [],
   "source": [
    "area = circle.calculate_circle_area()"
   ]
  },
  {
   "cell_type": "code",
   "execution_count": 13,
   "id": "d329c404",
   "metadata": {},
   "outputs": [],
   "source": [
    "parameter = circle.calculate_circle_paramete()"
   ]
  },
  {
   "cell_type": "code",
   "execution_count": 14,
   "id": "2c29f56b",
   "metadata": {},
   "outputs": [
    {
     "name": "stdout",
     "output_type": "stream",
     "text": [
      "Area of the circle:  102.07034531513239\n",
      "Parameter of the circle:  35.814156250923645\n"
     ]
    }
   ],
   "source": [
    "print(\"Area of the circle: \", area)\n",
    "print(\"Parameter of the circle: \", parameter)"
   ]
  }
 ],
 "metadata": {
  "kernelspec": {
   "display_name": "Python 3 (ipykernel)",
   "language": "python",
   "name": "python3"
  },
  "language_info": {
   "codemirror_mode": {
    "name": "ipython",
    "version": 3
   },
   "file_extension": ".py",
   "mimetype": "text/x-python",
   "name": "python",
   "nbconvert_exporter": "python",
   "pygments_lexer": "ipython3",
   "version": "3.10.9"
  }
 },
 "nbformat": 4,
 "nbformat_minor": 5
}
