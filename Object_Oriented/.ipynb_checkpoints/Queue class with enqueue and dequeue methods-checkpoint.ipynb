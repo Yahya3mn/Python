{
 "cells": [
  {
   "cell_type": "markdown",
   "id": "7458210d",
   "metadata": {},
   "source": [
    "## Write a Python program to create a class representing a queue data structure. Include methods for enqueueing and dequeueing elements."
   ]
  },
  {
   "cell_type": "code",
   "execution_count": 1,
   "id": "e34b45bf",
   "metadata": {},
   "outputs": [],
   "source": [
    "class Queue:\n",
    "    def __init__(self):\n",
    "        self.items = []\n",
    "        \n",
    "    def is_empty(self):\n",
    "        return len(self.items) == 0\n",
    "        \n",
    "    def enqueue(self, item):\n",
    "        self.items.append(item)\n",
    "        \n",
    "    def dequeue(self):\n",
    "        if not self.is_empty():\n",
    "            return self.items.pop(0)\n",
    "        else:\n",
    "            raise IndexError(\"Cannot dequeue from an empty queue\")"
   ]
  },
  {
   "cell_type": "code",
   "execution_count": 2,
   "id": "2312e9b2",
   "metadata": {},
   "outputs": [],
   "source": [
    "queue = Queue()"
   ]
  },
  {
   "cell_type": "code",
   "execution_count": 3,
   "id": "7bd6b30c",
   "metadata": {},
   "outputs": [],
   "source": [
    "queue.enqueue(10)\n",
    "queue.enqueue(20)\n",
    "queue.enqueue(30)\n",
    "queue.enqueue(40)\n",
    "queue.enqueue(50)"
   ]
  },
  {
   "cell_type": "code",
   "execution_count": 4,
   "id": "bcf8054d",
   "metadata": {},
   "outputs": [
    {
     "name": "stdout",
     "output_type": "stream",
     "text": [
      "Current Queue: [10, 20, 30, 40, 50]\n"
     ]
    }
   ],
   "source": [
    "print(\"Current Queue:\", queue.items)"
   ]
  },
  {
   "cell_type": "code",
   "execution_count": 5,
   "id": "27111837",
   "metadata": {},
   "outputs": [
    {
     "name": "stdout",
     "output_type": "stream",
     "text": [
      "Dequeued item: 10\n",
      "Dequeued item: 20\n"
     ]
    }
   ],
   "source": [
    "dequeued_item = queue.dequeue()\n",
    "print(\"Dequeued item:\", dequeued_item)\n",
    "dequeued_item = queue.dequeue()\n",
    "print(\"Dequeued item:\", dequeued_item)"
   ]
  },
  {
   "cell_type": "code",
   "execution_count": 6,
   "id": "336e25bb",
   "metadata": {},
   "outputs": [
    {
     "name": "stdout",
     "output_type": "stream",
     "text": [
      "Updated Queue: [30, 40, 50]\n"
     ]
    }
   ],
   "source": [
    "print(\"Updated Queue:\", queue.items) "
   ]
  }
 ],
 "metadata": {
  "kernelspec": {
   "display_name": "Python 3 (ipykernel)",
   "language": "python",
   "name": "python3"
  },
  "language_info": {
   "codemirror_mode": {
    "name": "ipython",
    "version": 3
   },
   "file_extension": ".py",
   "mimetype": "text/x-python",
   "name": "python",
   "nbconvert_exporter": "python",
   "pygments_lexer": "ipython3",
   "version": "3.10.9"
  }
 },
 "nbformat": 4,
 "nbformat_minor": 5
}
