{
 "cells": [
  {
   "cell_type": "markdown",
   "id": "b8adeaef",
   "metadata": {},
   "source": [
    "## Write a Python program to create a class representing a stack data structure. Include methods for pushing, popping and displaying elements."
   ]
  },
  {
   "cell_type": "code",
   "execution_count": 6,
   "id": "6f34038e",
   "metadata": {},
   "outputs": [],
   "source": [
    "class Stack:\n",
    "    \n",
    "    def __init__(self):\n",
    "        self.items = []\n",
    "        \n",
    "    def is_empty(self):\n",
    "        return len(self.items) == 0\n",
    "        \n",
    "    def push(self, item):\n",
    "        self.items.append(item)\n",
    "        \n",
    "    def pop(self):\n",
    "        if not self.is_empty():\n",
    "            return self.items.pop()\n",
    "        else:\n",
    "            raise IndexError(\"Cannot pop from an empty stack.\")\n",
    "            \n",
    "    def display(self):\n",
    "        print(\"Stack items:\", self.items)"
   ]
  },
  {
   "cell_type": "code",
   "execution_count": 7,
   "id": "9271e7eb",
   "metadata": {},
   "outputs": [],
   "source": [
    "stack = Stack()"
   ]
  },
  {
   "cell_type": "code",
   "execution_count": 8,
   "id": "affdca7e",
   "metadata": {},
   "outputs": [],
   "source": [
    "stack.push(10)\n",
    "stack.push(20)\n",
    "stack.push(30)\n",
    "stack.push(40)\n",
    "stack.push(50)"
   ]
  },
  {
   "cell_type": "code",
   "execution_count": 9,
   "id": "a310ef8c",
   "metadata": {},
   "outputs": [
    {
     "name": "stdout",
     "output_type": "stream",
     "text": [
      "Stack items: [10, 20, 30, 40, 50]\n"
     ]
    }
   ],
   "source": [
    "stack.display()"
   ]
  },
  {
   "cell_type": "code",
   "execution_count": 10,
   "id": "7f701bbc",
   "metadata": {},
   "outputs": [
    {
     "name": "stdout",
     "output_type": "stream",
     "text": [
      "Popped item: 50\n",
      "Popped item: 40\n"
     ]
    }
   ],
   "source": [
    "popped_item = stack.pop()\n",
    "print(\"Popped item:\", popped_item)\n",
    "popped_item = stack.pop()\n",
    "print(\"Popped item:\", popped_item)"
   ]
  },
  {
   "cell_type": "code",
   "execution_count": 11,
   "id": "84b84be2",
   "metadata": {},
   "outputs": [
    {
     "name": "stdout",
     "output_type": "stream",
     "text": [
      "Stack items: [10, 20, 30]\n"
     ]
    }
   ],
   "source": [
    "stack.display()"
   ]
  }
 ],
 "metadata": {
  "kernelspec": {
   "display_name": "Python 3 (ipykernel)",
   "language": "python",
   "name": "python3"
  },
  "language_info": {
   "codemirror_mode": {
    "name": "ipython",
    "version": 3
   },
   "file_extension": ".py",
   "mimetype": "text/x-python",
   "name": "python",
   "nbconvert_exporter": "python",
   "pygments_lexer": "ipython3",
   "version": "3.10.9"
  }
 },
 "nbformat": 4,
 "nbformat_minor": 5
}
