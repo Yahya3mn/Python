{
 "cells": [
  {
   "cell_type": "markdown",
   "id": "dc993c91",
   "metadata": {},
   "source": [
    "Write a Python program to convert a given list of tuples to a list of lists."
   ]
  },
  {
   "cell_type": "code",
   "execution_count": 3,
   "id": "6ba69aed",
   "metadata": {},
   "outputs": [],
   "source": [
    "def test(lst_tuples):\n",
    "    \n",
    "    result = [list(el) for el in lst_tuples]\n",
    "    \n",
    "    return result"
   ]
  },
  {
   "cell_type": "code",
   "execution_count": 4,
   "id": "f7977aee",
   "metadata": {},
   "outputs": [
    {
     "name": "stdout",
     "output_type": "stream",
     "text": [
      "Original list of tuples:\n",
      "[(1, 2), (2, 3), (3, 4)]\n"
     ]
    }
   ],
   "source": [
    "lst_tuples = [(1,2),(2,3),(3,4)]\n",
    "\n",
    "print(\"Original list of tuples:\")\n",
    "print(lst_tuples)"
   ]
  },
  {
   "cell_type": "code",
   "execution_count": 5,
   "id": "eae782de",
   "metadata": {},
   "outputs": [
    {
     "name": "stdout",
     "output_type": "stream",
     "text": [
      "Convert the said list of tuples to a list of lists:\n",
      "[[1, 2], [2, 3], [3, 4]]\n"
     ]
    }
   ],
   "source": [
    "print(\"Convert the said list of tuples to a list of lists:\")\n",
    "print(test(lst_tuples))"
   ]
  },
  {
   "cell_type": "code",
   "execution_count": 6,
   "id": "f2198180",
   "metadata": {},
   "outputs": [
    {
     "name": "stdout",
     "output_type": "stream",
     "text": [
      "Original list of tuples:\n",
      "[(1, 2), (2, 3, 5), (3, 4), (2, 3, 4, 2)]\n"
     ]
    }
   ],
   "source": [
    "lst_tuples = [(1, 2), (2, 3, 5), (3, 4), (2, 3, 4, 2)]\n",
    "\n",
    "print(\"Original list of tuples:\")\n",
    "print(lst_tuples)"
   ]
  },
  {
   "cell_type": "code",
   "execution_count": 7,
   "id": "0d8d16fa",
   "metadata": {},
   "outputs": [
    {
     "name": "stdout",
     "output_type": "stream",
     "text": [
      "Convert the said list of tuples to a list of lists:\n",
      "[[1, 2], [2, 3, 5], [3, 4], [2, 3, 4, 2]]\n"
     ]
    }
   ],
   "source": [
    "print(\"Convert the said list of tuples to a list of lists:\")\n",
    "print(test(lst_tuples)) "
   ]
  }
 ],
 "metadata": {
  "kernelspec": {
   "display_name": "Python 3 (ipykernel)",
   "language": "python",
   "name": "python3"
  },
  "language_info": {
   "codemirror_mode": {
    "name": "ipython",
    "version": 3
   },
   "file_extension": ".py",
   "mimetype": "text/x-python",
   "name": "python",
   "nbconvert_exporter": "python",
   "pygments_lexer": "ipython3",
   "version": "3.10.9"
  }
 },
 "nbformat": 4,
 "nbformat_minor": 5
}
