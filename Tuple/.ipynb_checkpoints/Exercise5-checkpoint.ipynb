{
 "cells": [
  {
   "cell_type": "markdown",
   "id": "598da033",
   "metadata": {},
   "source": [
    "Write a Python program to calculate the product, multiplying all the numbers in a given tuple."
   ]
  },
  {
   "cell_type": "code",
   "execution_count": 1,
   "id": "b2335a51",
   "metadata": {},
   "outputs": [],
   "source": [
    "def mutiple_tuple(nums):\n",
    "    \n",
    "    temp = list(nums)\n",
    "    \n",
    "    product = 1\n",
    "    \n",
    "    for x in temp:\n",
    "        \n",
    "        product *= x\n",
    "    return product"
   ]
  },
  {
   "cell_type": "code",
   "execution_count": 3,
   "id": "8ab81e09",
   "metadata": {},
   "outputs": [
    {
     "name": "stdout",
     "output_type": "stream",
     "text": [
      "Original tuple:\n",
      "(4, 3, 2, 2, -1, 18)\n"
     ]
    }
   ],
   "source": [
    "nums = (4, 3, 2, 2, -1, 18)\n",
    "print(\"Original tuple:\")\n",
    "print(nums)"
   ]
  },
  {
   "cell_type": "code",
   "execution_count": 4,
   "id": "3f2e6299",
   "metadata": {},
   "outputs": [
    {
     "name": "stdout",
     "output_type": "stream",
     "text": [
      "Product - multiplying all the numbers of the said tuple :  -864\n"
     ]
    }
   ],
   "source": [
    "print(\"Product - multiplying all the numbers of the said tuple : \", mutiple_tuple(nums))"
   ]
  },
  {
   "cell_type": "code",
   "execution_count": 5,
   "id": "899907e4",
   "metadata": {},
   "outputs": [
    {
     "name": "stdout",
     "output_type": "stream",
     "text": [
      "Original tuple:\n",
      "(2, 4, 8, 8, 3, 2, 9)\n"
     ]
    }
   ],
   "source": [
    "nums = (2, 4, 8, 8, 3, 2, 9)\n",
    "print(\"Original tuple:\")\n",
    "print(nums)"
   ]
  },
  {
   "cell_type": "code",
   "execution_count": 6,
   "id": "c00a74ab",
   "metadata": {},
   "outputs": [
    {
     "name": "stdout",
     "output_type": "stream",
     "text": [
      "Product - multiplying all the numbers of the said tuple: 27648\n"
     ]
    }
   ],
   "source": [
    "print(\"Product - multiplying all the numbers of the said tuple:\", mutiple_tuple(nums)) "
   ]
  }
 ],
 "metadata": {
  "kernelspec": {
   "display_name": "Python 3 (ipykernel)",
   "language": "python",
   "name": "python3"
  },
  "language_info": {
   "codemirror_mode": {
    "name": "ipython",
    "version": 3
   },
   "file_extension": ".py",
   "mimetype": "text/x-python",
   "name": "python",
   "nbconvert_exporter": "python",
   "pygments_lexer": "ipython3",
   "version": "3.10.9"
  }
 },
 "nbformat": 4,
 "nbformat_minor": 5
}
