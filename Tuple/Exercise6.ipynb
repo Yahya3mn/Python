{
 "cells": [
  {
   "cell_type": "markdown",
   "id": "a1fcc003",
   "metadata": {},
   "source": [
    "Write a Python program to compute the element-wise sum of given tuples."
   ]
  },
  {
   "cell_type": "code",
   "execution_count": 1,
   "id": "10962204",
   "metadata": {},
   "outputs": [],
   "source": [
    "x = (1,2,3,4)\n",
    "y = (3,5,2,1)\n",
    "z = (2,2,3,1)"
   ]
  },
  {
   "cell_type": "code",
   "execution_count": 2,
   "id": "286818b0",
   "metadata": {},
   "outputs": [
    {
     "name": "stdout",
     "output_type": "stream",
     "text": [
      "Original lists:\n",
      "(1, 2, 3, 4)\n",
      "(3, 5, 2, 1)\n",
      "(2, 2, 3, 1)\n"
     ]
    }
   ],
   "source": [
    "print(\"Original lists:\")\n",
    "print(x)\n",
    "print(y)\n",
    "print(z)"
   ]
  },
  {
   "cell_type": "code",
   "execution_count": 3,
   "id": "b5eb73d7",
   "metadata": {},
   "outputs": [
    {
     "name": "stdout",
     "output_type": "stream",
     "text": [
      "Element-wise sum of the said tuples:\n",
      "(6, 9, 8, 6)\n"
     ]
    }
   ],
   "source": [
    "result = tuple(map(sum, zip(x,y,z)))\n",
    "\n",
    "print(\"Element-wise sum of the said tuples:\")\n",
    "print(result)"
   ]
  }
 ],
 "metadata": {
  "kernelspec": {
   "display_name": "Python 3 (ipykernel)",
   "language": "python",
   "name": "python3"
  },
  "language_info": {
   "codemirror_mode": {
    "name": "ipython",
    "version": 3
   },
   "file_extension": ".py",
   "mimetype": "text/x-python",
   "name": "python",
   "nbconvert_exporter": "python",
   "pygments_lexer": "ipython3",
   "version": "3.10.9"
  }
 },
 "nbformat": 4,
 "nbformat_minor": 5
}
