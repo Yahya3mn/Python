{
 "cells": [
  {
   "cell_type": "markdown",
   "id": "34c91aa9",
   "metadata": {},
   "source": [
    "# Write a Python program to create a decorator that logs the arguments and return value of a function.\n",
    "\n",
    "The decorator in this code logs the function name, arguments, and return value whenever the decorated function is called."
   ]
  },
  {
   "cell_type": "code",
   "execution_count": 4,
   "id": "daeac2ed",
   "metadata": {},
   "outputs": [
    {
     "name": "stdout",
     "output_type": "stream",
     "text": [
      "Calling multiply_numbers with args: (10, 20), kwargs: {}\n",
      "multiply_numbers returned: 200\n",
      "Result: 200\n"
     ]
    }
   ],
   "source": [
    "def decorator(func):\n",
    "    def wrap(*args, **kwargs):\n",
    "        # Log the function name and arguments\n",
    "        print(f\"Calling {func.__name__} with args: {args}, kwargs: {kwargs}\")\n",
    "        \n",
    "        # Call the original function\n",
    "        result = func(*args, **kwargs)\n",
    "        \n",
    "        # Log the return value\n",
    "        print(f\"{func.__name__} returned: {result}\")\n",
    "        \n",
    "        # Return the result\n",
    "        return result\n",
    "    return wrap\n",
    "\n",
    "\n",
    "@decorator\n",
    "def multiply_numbers(x, y):\n",
    "    return x * y\n",
    "\n",
    "# Call the decorated function\n",
    "result = multiply_numbers(10, 20)\n",
    "print(\"Result:\", result)"
   ]
  }
 ],
 "metadata": {
  "kernelspec": {
   "display_name": "Python 3 (ipykernel)",
   "language": "python",
   "name": "python3"
  },
  "language_info": {
   "codemirror_mode": {
    "name": "ipython",
    "version": 3
   },
   "file_extension": ".py",
   "mimetype": "text/x-python",
   "name": "python",
   "nbconvert_exporter": "python",
   "pygments_lexer": "ipython3",
   "version": "3.10.9"
  }
 },
 "nbformat": 4,
 "nbformat_minor": 5
}
