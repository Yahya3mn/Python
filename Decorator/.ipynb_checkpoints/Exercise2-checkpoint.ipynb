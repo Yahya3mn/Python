{
 "cells": [
  {
   "cell_type": "markdown",
   "id": "0efa15e3",
   "metadata": {},
   "source": [
    "# Write a Python program that implements a decorator to retry a function multiple times in case of failure."
   ]
  },
  {
   "cell_type": "code",
   "execution_count": 3,
   "id": "a2bf6246",
   "metadata": {},
   "outputs": [],
   "source": [
    "import sqlite3\n",
    "import time"
   ]
  },
  {
   "cell_type": "code",
   "execution_count": 7,
   "id": "a0021f94",
   "metadata": {},
   "outputs": [],
   "source": [
    "def retry_on_failure(max_retries, delay=1):\n",
    "    def decorator(func):\n",
    "        def wrapper(*args, **kwargs):\n",
    "            for _ in range(max_retries):\n",
    "                try:\n",
    "                    result = func(*args, **kwargs)\n",
    "                    return result\n",
    "                except Exception as e:\n",
    "                    print(f\"Error occurred: {e}. Retrying...\")\n",
    "                    time.sleep(delay)\n",
    "            raise Exception(\"Maximum retries exceeded. Function failed.\")\n",
    "\n",
    "        return wrapper\n",
    "    return decorator"
   ]
  },
  {
   "cell_type": "code",
   "execution_count": 8,
   "id": "8036e266",
   "metadata": {},
   "outputs": [
    {
     "name": "stdout",
     "output_type": "stream",
     "text": [
      "Error occurred: no such table: users. Retrying...\n",
      "Error occurred: no such table: users. Retrying...\n",
      "Error occurred: no such table: users. Retrying...\n",
      "Failed to connect to the database: Maximum retries exceeded. Function failed.\n"
     ]
    }
   ],
   "source": [
    "@retry_on_failure(max_retries=3, delay=2)\n",
    "def connect_to_database():\n",
    "    conn = sqlite3.connect(\"example.db\")\n",
    "    cursor = conn.cursor()\n",
    "    cursor.execute(\"SELECT * FROM users\")\n",
    "    result = cursor.fetchall()\n",
    "    cursor.close()\n",
    "    conn.close()\n",
    "    return result\n",
    "\n",
    "try:\n",
    "    data = connect_to_database()\n",
    "    print(\"Data retrieved successfully:\", data)\n",
    "except Exception as e:\n",
    "    print(f\"Failed to connect to the database: {e}\")"
   ]
  }
 ],
 "metadata": {
  "kernelspec": {
   "display_name": "Python 3 (ipykernel)",
   "language": "python",
   "name": "python3"
  },
  "language_info": {
   "codemirror_mode": {
    "name": "ipython",
    "version": 3
   },
   "file_extension": ".py",
   "mimetype": "text/x-python",
   "name": "python",
   "nbconvert_exporter": "python",
   "pygments_lexer": "ipython3",
   "version": "3.10.9"
  }
 },
 "nbformat": 4,
 "nbformat_minor": 5
}
