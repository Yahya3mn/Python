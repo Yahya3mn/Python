{
 "cells": [
  {
   "cell_type": "markdown",
   "id": "6cc294e6",
   "metadata": {},
   "source": [
    "## Write a Python class BankAccount with attributes like account_number, balance, date_of_opening and customer_name, and methods like deposit, withdraw, and check_balance."
   ]
  },
  {
   "cell_type": "code",
   "execution_count": 1,
   "id": "16ff5113",
   "metadata": {},
   "outputs": [],
   "source": [
    "class BankAccoun:\n",
    "    def __init__(self, account_number, date_of_Opening, balance, customer_name):\n",
    "        self.account_number = account_number\n",
    "        self.date_of_Opening = date_of_Opening\n",
    "        self.balance = balance\n",
    "        self.customer_name = customer_name\n",
    "                 \n",
    "                 \n",
    "    def deposit(self, amount):\n",
    "        self.balance += amount\n",
    "        print(f\"${amount} has been deposited in your account.\")\n",
    "                 \n",
    "    def withdraw(self, amount):\n",
    "        if amount > self.balance:\n",
    "            print(\"Insufficient balance.\")\n",
    "        else:\n",
    "            self.balance -= amount\n",
    "            print(f\"${amount} has been withdraw from your account.\")\n",
    "                 \n",
    "    def check_balance(self):\n",
    "        print(f\"Current balance if ${self.balance}.\")\n",
    "        \n",
    "    def print_customers_detail(self):\n",
    "        print(\"Name: \", self.customer_name)\n",
    "        print(\"Account Number: \", self.account_number)\n",
    "        print(\"Date of opening: \", self.date_of_Opening)\n",
    "        print(f\"Balance: ${self.balance}\\n\")\n",
    "                     "
   ]
  },
  {
   "cell_type": "code",
   "execution_count": 2,
   "id": "b24f2115",
   "metadata": {},
   "outputs": [],
   "source": [
    "account1 = BankAccoun(2345, \"01-01-2024\", 1000, \"Yahya Zakrya Khan\")\n",
    "account2 = BankAccoun(2345, \"01-01-2024\", 1000, \"Bilal Çavuş\")\n",
    "account3 = BankAccoun(2345, \"01-01-2024\", 1000, \"İsmail Enes Yardibi\")\n",
    "account4 = BankAccoun(2345, \"01-01-2024\", 1000, \"Yusuf Bakkal\")\n",
    "account5 = BankAccoun(2345, \"01-01-2024\", 1000, \"Bora Sezer Çetin\")"
   ]
  },
  {
   "cell_type": "code",
   "execution_count": 4,
   "id": "aaace6a2",
   "metadata": {},
   "outputs": [
    {
     "name": "stdout",
     "output_type": "stream",
     "text": [
      "Cutomer Details:\n",
      "\n",
      "Name:  Yahya Zakrya Khan\n",
      "Account Number:  2345\n",
      "Date of opening:  01-01-2024\n",
      "Balance: $1000\n",
      "\n",
      "Name:  Bilal Çavuş\n",
      "Account Number:  2345\n",
      "Date of opening:  01-01-2024\n",
      "Balance: $1000\n",
      "\n",
      "Name:  İsmail Enes Yardibi\n",
      "Account Number:  2345\n",
      "Date of opening:  01-01-2024\n",
      "Balance: $1000\n",
      "\n",
      "Name:  Yusuf Bakkal\n",
      "Account Number:  2345\n",
      "Date of opening:  01-01-2024\n",
      "Balance: $1000\n",
      "\n",
      "Name:  Bora Sezer Çetin\n",
      "Account Number:  2345\n",
      "Date of opening:  01-01-2024\n",
      "Balance: $1000\n",
      "\n"
     ]
    }
   ],
   "source": [
    "print(\"Cutomer Details:\\n\")\n",
    "account1.print_customers_detail()\n",
    "account2.print_customers_detail()\n",
    "account3.print_customers_detail()\n",
    "account4.print_customers_detail()\n",
    "account5.print_customers_detail()"
   ]
  },
  {
   "cell_type": "code",
   "execution_count": 6,
   "id": "2c2cd7ec",
   "metadata": {},
   "outputs": [
    {
     "name": "stdout",
     "output_type": "stream",
     "text": [
      "==============================\n",
      "\n",
      "Name:  Yusuf Bakkal\n",
      "Account Number:  2345\n",
      "Date of opening:  01-01-2024\n",
      "Balance: $2000\n",
      "\n",
      "$1000 has been deposited in your account.\n",
      "Current balance if $3000.\n",
      "Insufficient balance.\n",
      "Insufficient balance.\n",
      "Current balance if $3000.\n"
     ]
    }
   ],
   "source": [
    "print(\"==============================\\n\")\n",
    "account4.print_customers_detail()\n",
    "\n",
    "account4.deposit(1000)\n",
    "\n",
    "account4.check_balance()\n",
    "\n",
    "account4.withdraw(5000)\n",
    "\n",
    "account4.withdraw(3400)\n",
    "account4.check_balance()\n"
   ]
  }
 ],
 "metadata": {
  "kernelspec": {
   "display_name": "Python 3 (ipykernel)",
   "language": "python",
   "name": "python3"
  },
  "language_info": {
   "codemirror_mode": {
    "name": "ipython",
    "version": 3
   },
   "file_extension": ".py",
   "mimetype": "text/x-python",
   "name": "python",
   "nbconvert_exporter": "python",
   "pygments_lexer": "ipython3",
   "version": "3.10.9"
  }
 },
 "nbformat": 4,
 "nbformat_minor": 5
}
