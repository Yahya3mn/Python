{
 "cells": [
  {
   "cell_type": "markdown",
   "id": "f43149ae",
   "metadata": {},
   "source": [
    "## Write a Python class Restaurant with attributes like menu_items, book_table, and customer_orders, and methods like add_item_to_menu, book_tables, and customer_order.\n",
    "\n",
    "Perform the following tasks now:\n",
    "    Now add items to the menu.\n",
    "    Make table reservations.\n",
    "    Take customer orders.\n",
    "    Print the menu.\n",
    "    Print table reservations.\n",
    "    Print customer orders.\n",
    "Note: Use dictionaries and lists to store the data"
   ]
  },
  {
   "cell_type": "code",
   "execution_count": 37,
   "id": "9c6a1081",
   "metadata": {},
   "outputs": [],
   "source": [
    "class Restaurant:\n",
    "    def __init__(self):\n",
    "        self.menu_items = {}\n",
    "        self.booked_tables = []  \n",
    "        self.customer_orders = []\n",
    "\n",
    "    def add_item_to_menu(self, item, price):\n",
    "        self.menu_items[item] = price\n",
    "\n",
    "    def book_tables(self, table_number):  \n",
    "        self.booked_tables.append(table_number)\n",
    "\n",
    "    def customer_order(self, table_number, order):\n",
    "        order_details = {'table_number': table_number, 'order': order}\n",
    "        self.customer_orders.append(order_details)\n",
    "\n",
    "    def print_menu_items(self):\n",
    "        for item, price in self.menu_items.items():\n",
    "            print(\"{}: {}\".format(item, price))\n",
    "\n",
    "    def print_table_reservations(self):\n",
    "        for table in self.booked_tables:  \n",
    "            print(\"Table {}\".format(table))\n",
    "\n",
    "    def print_customer_orders(self):\n",
    "        for order in self.customer_orders:\n",
    "            print(\"Table {}: {}\".format(order['table_number'], order['order']))"
   ]
  },
  {
   "cell_type": "code",
   "execution_count": 38,
   "id": "cb11de91",
   "metadata": {},
   "outputs": [],
   "source": [
    "restaurant = Restaurant()"
   ]
  },
  {
   "cell_type": "code",
   "execution_count": 39,
   "id": "45938966",
   "metadata": {},
   "outputs": [],
   "source": [
    "restaurant.add_item_to_menu(\"Cheeseburger\", 9.99)\n",
    "restaurant.add_item_to_menu(\"Caesar Salad\", 8)\n",
    "restaurant.add_item_to_menu(\"Grilled Salmon\", 19.99)\n",
    "restaurant.add_item_to_menu(\"French Fries\", 3.99)\n",
    "restaurant.add_item_to_menu(\"Fish & Chips\", 15)"
   ]
  },
  {
   "cell_type": "code",
   "execution_count": 40,
   "id": "9da4c052",
   "metadata": {},
   "outputs": [],
   "source": [
    "restaurant.book_tables(1)\n",
    "restaurant.book_tables(2)\n",
    "restaurant.book_tables(3)"
   ]
  },
  {
   "cell_type": "code",
   "execution_count": 41,
   "id": "6f437718",
   "metadata": {},
   "outputs": [],
   "source": [
    "restaurant.customer_order(1, \"Cheeseburger\")\n",
    "restaurant.customer_order(1, \"Grilled Salmon\")\n",
    "restaurant.customer_order(2, \"Fish & Chips\")\n",
    "restaurant.customer_order(2, \"Grilled Salmon\")"
   ]
  },
  {
   "cell_type": "code",
   "execution_count": 42,
   "id": "ab34eb58",
   "metadata": {},
   "outputs": [
    {
     "name": "stdout",
     "output_type": "stream",
     "text": [
      "\n",
      "Popular dishes in the restaurant along with their prices:\n",
      "Cheeseburger: 9.99\n",
      "Caesar Salad: 8\n",
      "Grilled Salmon: 19.99\n",
      "French Fries: 3.99\n",
      "Fish & Chips: 15\n",
      "\n",
      "Table reserved in the Restaurant:\n",
      "Table 1\n",
      "Table 2\n",
      "Table 3\n",
      "\n",
      "Print customer orders:\n",
      "Table 1: Cheeseburger\n",
      "Table 1: Grilled Salmon\n",
      "Table 2: Fish & Chips\n",
      "Table 2: Grilled Salmon\n"
     ]
    }
   ],
   "source": [
    "print(\"\\nPopular dishes in the restaurant along with their prices:\")\n",
    "restaurant.print_menu_items()\n",
    "print(\"\\nTable reserved in the Restaurant:\")\n",
    "restaurant.print_table_reservations()\n",
    "print(\"\\nPrint customer orders:\")\n",
    "restaurant.print_customer_orders()"
   ]
  }
 ],
 "metadata": {
  "kernelspec": {
   "display_name": "Python 3 (ipykernel)",
   "language": "python",
   "name": "python3"
  },
  "language_info": {
   "codemirror_mode": {
    "name": "ipython",
    "version": 3
   },
   "file_extension": ".py",
   "mimetype": "text/x-python",
   "name": "python",
   "nbconvert_exporter": "python",
   "pygments_lexer": "ipython3",
   "version": "3.10.9"
  }
 },
 "nbformat": 4,
 "nbformat_minor": 5
}
