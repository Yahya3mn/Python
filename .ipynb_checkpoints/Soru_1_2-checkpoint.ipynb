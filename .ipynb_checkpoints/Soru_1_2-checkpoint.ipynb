{
 "cells": [
  {
   "cell_type": "code",
   "execution_count": 1,
   "id": "2c799a6f",
   "metadata": {},
   "outputs": [],
   "source": [
    "#Soru1\n",
    "def flatten_list(lst):\n",
    "    flat_list = []\n",
    "    for item in lst:\n",
    "        if isinstance(item, list):\n",
    "            flat_list.extend(flatten_list(item))\n",
    "        else:\n",
    "            flat_list.append(item)\n",
    "    return flat_list"
   ]
  },
  {
   "cell_type": "code",
   "execution_count": 2,
   "id": "66d873d8",
   "metadata": {},
   "outputs": [
    {
     "name": "stdout",
     "output_type": "stream",
     "text": [
      "Output:  [1, 'a', 'cat', 2, 3, 'dog', 4, 5]\n"
     ]
    }
   ],
   "source": [
    "input_list = [[1,'a',['cat'],2],[[[3]],'dog'],4,5]\n",
    "output_list = flatten_list(input_list)\n",
    "print(\"Output: \", output_list)"
   ]
  },
  {
   "cell_type": "code",
   "execution_count": 3,
   "id": "70c6c890",
   "metadata": {},
   "outputs": [],
   "source": [
    "#Soru2\n",
    "def reverse_list(lst):\n",
    "    reversed_lst = lst[::-1]\n",
    "    for i in range(len(reversed_lst)):\n",
    "        if isinstance(reversed_lst[i], list):\n",
    "            reversed_lst[i] = reverse_list(reversed_lst[i])\n",
    "    return reversed_lst"
   ]
  },
  {
   "cell_type": "code",
   "execution_count": 5,
   "id": "f35bfa3c",
   "metadata": {},
   "outputs": [
    {
     "name": "stdout",
     "output_type": "stream",
     "text": [
      "Output: []\n"
     ]
    }
   ],
   "source": [
    "input_list = [[1, 2], [3, 4], [5, 6, 7]]\n",
    "output_list = reverse_list(input_list)\n",
    "print(\"Output:\", output_list)"
   ]
  }
 ],
 "metadata": {
  "kernelspec": {
   "display_name": "Python 3 (ipykernel)",
   "language": "python",
   "name": "python3"
  },
  "language_info": {
   "codemirror_mode": {
    "name": "ipython",
    "version": 3
   },
   "file_extension": ".py",
   "mimetype": "text/x-python",
   "name": "python",
   "nbconvert_exporter": "python",
   "pygments_lexer": "ipython3",
   "version": "3.10.9"
  }
 },
 "nbformat": 4,
 "nbformat_minor": 5
}
