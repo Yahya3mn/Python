{
 "cells": [
  {
   "cell_type": "markdown",
   "id": "50384846",
   "metadata": {},
   "source": [
    "\n",
    "# Enumerate-Zip"
   ]
  },
  {
   "cell_type": "markdown",
   "id": "74e30da0",
   "metadata": {},
   "source": [
    "### Enumerate:\n",
    "\n",
    "\n",
    "for ile non-scalar yapılar içerisinde dolaşırken ya elemanları ya da indexleri üzerinde dolanmıştık, ama neden ikisi de aynı anda olmasın?\n",
    "\n",
    "\n",
    "Variable Unpacking konusunda bir tuple, liste gibi yapıların değerlerini birden çok değişkene bir seferde eşitlemeyi görmüştük.\n",
    "\n",
    "\n",
    "Bunun aynısını iterasyonda da yapabiliriz."
   ]
  },
  {
   "cell_type": "code",
   "execution_count": 1,
   "id": "d529e0cc",
   "metadata": {},
   "outputs": [],
   "source": [
    "l = [(1,2), (10,20)]"
   ]
  },
  {
   "cell_type": "code",
   "execution_count": 2,
   "id": "9589c371",
   "metadata": {},
   "outputs": [
    {
     "name": "stdout",
     "output_type": "stream",
     "text": [
      "(1, 2)\n",
      "(10, 20)\n"
     ]
    }
   ],
   "source": [
    "for e in l:\n",
    "    print(e)"
   ]
  },
  {
   "cell_type": "code",
   "execution_count": 4,
   "id": "baeac501",
   "metadata": {},
   "outputs": [
    {
     "name": "stdout",
     "output_type": "stream",
     "text": [
      "1\n",
      "2\n",
      "********\n",
      "10\n",
      "20\n",
      "********\n"
     ]
    }
   ],
   "source": [
    "for e in l:\n",
    "    a, b = e\n",
    "    print(a)\n",
    "    print(b)\n",
    "    print(\"********\")"
   ]
  },
  {
   "cell_type": "code",
   "execution_count": 5,
   "id": "d0e65279",
   "metadata": {},
   "outputs": [
    {
     "name": "stdout",
     "output_type": "stream",
     "text": [
      "tuple'ın ilk elemanı 1\n",
      "tuple'ın ikinci elemanı 2\n",
      "------------------------------\n",
      "tuple'ın ilk elemanı 10\n",
      "tuple'ın ikinci elemanı 20\n",
      "------------------------------\n"
     ]
    }
   ],
   "source": [
    "for a,b in l:\n",
    "    print(\"tuple'ın ilk elemanı\", a)\n",
    "    print(\"tuple'ın ikinci elemanı\",b)\n",
    "    print(\"------------------------------\")"
   ]
  },
  {
   "cell_type": "markdown",
   "id": "68e6145c",
   "metadata": {},
   "source": [
    "    enumerate() bize (index, element) olarak verecek."
   ]
  },
  {
   "cell_type": "code",
   "execution_count": 6,
   "id": "6d988610",
   "metadata": {},
   "outputs": [],
   "source": [
    "adlar = ['Tyler', 'Blake', 'Cory', 'Cameron']"
   ]
  },
  {
   "cell_type": "code",
   "execution_count": 7,
   "id": "9b3ff777",
   "metadata": {},
   "outputs": [
    {
     "name": "stdout",
     "output_type": "stream",
     "text": [
      "Tyler\n",
      "Blake\n",
      "Cory\n",
      "Cameron\n"
     ]
    }
   ],
   "source": [
    "for e in adlar:\n",
    "    print(e)"
   ]
  },
  {
   "cell_type": "code",
   "execution_count": 8,
   "id": "f0d676c7",
   "metadata": {},
   "outputs": [
    {
     "name": "stdout",
     "output_type": "stream",
     "text": [
      "0 indexindeki eleman:  Tyler\n",
      "1 indexindeki eleman:  Blake\n",
      "2 indexindeki eleman:  Cory\n",
      "3 indexindeki eleman:  Cameron\n"
     ]
    }
   ],
   "source": [
    "for i, e in enumerate(adlar):\n",
    "    print(i, \"indexindeki eleman: \",e)"
   ]
  },
  {
   "cell_type": "markdown",
   "id": "42b7a5bb",
   "metadata": {},
   "source": [
    "    enumerate() 0'dan başlamak zorunda değil, özellikle kaçtan başlayacağını belirtebiliriz."
   ]
  },
  {
   "cell_type": "code",
   "execution_count": 9,
   "id": "55bed972",
   "metadata": {},
   "outputs": [
    {
     "name": "stdout",
     "output_type": "stream",
     "text": [
      "100 indexindeki eleman:  Tyler\n",
      "101 indexindeki eleman:  Blake\n",
      "102 indexindeki eleman:  Cory\n",
      "103 indexindeki eleman:  Cameron\n"
     ]
    }
   ],
   "source": [
    "for i, e in enumerate(adlar, start=100):\n",
    "    print(i, \"indexindeki eleman: \", e)"
   ]
  },
  {
   "cell_type": "markdown",
   "id": "de20e433",
   "metadata": {},
   "source": [
    "### zip()\n",
    "\n",
    "\n",
    "    Farklı yapıların içinde paralel iterasyon yapmamızı sağlar. zip()"
   ]
  },
  {
   "cell_type": "code",
   "execution_count": 10,
   "id": "93ccd55d",
   "metadata": {},
   "outputs": [],
   "source": [
    "ogrenciler = [\"ogr_1\",\"ogr_2\",\"ogr_3\"]\n",
    "notlar = [90,80,72]"
   ]
  },
  {
   "cell_type": "code",
   "execution_count": 11,
   "id": "4a36d738",
   "metadata": {},
   "outputs": [
    {
     "name": "stdout",
     "output_type": "stream",
     "text": [
      "ogr_1 90\n",
      "ogr_2 80\n",
      "ogr_3 72\n"
     ]
    }
   ],
   "source": [
    "for s, g in zip(ogrenciler, notlar):\n",
    "    print(s, g)"
   ]
  },
  {
   "cell_type": "code",
   "execution_count": 12,
   "id": "7a26232a",
   "metadata": {},
   "outputs": [
    {
     "name": "stdout",
     "output_type": "stream",
     "text": [
      "('ogr_1', 90)\n",
      "('ogr_2', 80)\n",
      "('ogr_3', 72)\n"
     ]
    }
   ],
   "source": [
    "for e in zip(ogrenciler, notlar):\n",
    "    print(e)"
   ]
  },
  {
   "cell_type": "code",
   "execution_count": 13,
   "id": "9e93efe2",
   "metadata": {},
   "outputs": [
    {
     "name": "stdout",
     "output_type": "stream",
     "text": [
      "ogr_1 90\n",
      "ogr_2 80\n",
      "ogr_3 72\n"
     ]
    }
   ],
   "source": [
    "for i in range(len(ogrenciler)):\n",
    "    print(ogrenciler[i], notlar[i])"
   ]
  },
  {
   "cell_type": "markdown",
   "id": "25cea644",
   "metadata": {},
   "source": [
    "### zip() Örnek:"
   ]
  },
  {
   "cell_type": "code",
   "execution_count": 14,
   "id": "18e6b243",
   "metadata": {},
   "outputs": [],
   "source": [
    "# Her ayki karı hesaplamak\n",
    "satis = [3500.00, 76300.00, 67200.00]"
   ]
  },
  {
   "cell_type": "code",
   "execution_count": 15,
   "id": "babb2e98",
   "metadata": {},
   "outputs": [],
   "source": [
    "maliyet = [56700.00, 21900.00, 12100.00]"
   ]
  },
  {
   "cell_type": "code",
   "execution_count": 17,
   "id": "e5c50ec5",
   "metadata": {},
   "outputs": [
    {
     "name": "stdout",
     "output_type": "stream",
     "text": [
      "Total profit: -53200.0\n",
      "Total profit: 54400.0\n",
      "Total profit: 55100.0\n"
     ]
    }
   ],
   "source": [
    "for i in range(len(maliyet)):\n",
    "    s = satis[i]\n",
    "    m = maliyet[i]\n",
    "    \n",
    "    kar = s - m\n",
    "    print(f'Total profit: {kar}')"
   ]
  },
  {
   "cell_type": "code",
   "execution_count": 18,
   "id": "70a7bee3",
   "metadata": {},
   "outputs": [],
   "source": [
    "satis = [3500.00, 76300.00, 67200.00]"
   ]
  },
  {
   "cell_type": "code",
   "execution_count": 19,
   "id": "e575d8ea",
   "metadata": {},
   "outputs": [],
   "source": [
    "maliyet = [56700.00, 21900.00, 12100.00]"
   ]
  },
  {
   "cell_type": "code",
   "execution_count": 20,
   "id": "82868c3d",
   "metadata": {},
   "outputs": [
    {
     "name": "stdout",
     "output_type": "stream",
     "text": [
      "Total profit: -53200.0\n",
      "Total profit: 54400.0\n",
      "Total profit: 55100.0\n"
     ]
    }
   ],
   "source": [
    "for s, m in zip(satis, maliyet):\n",
    "    kar = s - m\n",
    "    print(f'Total profit: {kar}')"
   ]
  },
  {
   "cell_type": "markdown",
   "id": "2c6402bb",
   "metadata": {},
   "source": [
    "### zip() ile Dictionary Yaratmak:"
   ]
  },
  {
   "cell_type": "code",
   "execution_count": 21,
   "id": "b156a7de",
   "metadata": {},
   "outputs": [],
   "source": [
    "keys = ['isim', 'soyad', 'ulke', 'is']\n",
    "values = ['Denis', 'Walker', 'Turkey', 'data scientist']"
   ]
  },
  {
   "cell_type": "code",
   "execution_count": 22,
   "id": "afcf055a",
   "metadata": {},
   "outputs": [],
   "source": [
    "d = {}"
   ]
  },
  {
   "cell_type": "code",
   "execution_count": 23,
   "id": "46525665",
   "metadata": {},
   "outputs": [],
   "source": [
    "for k, v in zip(keys, values):\n",
    "    d[k] = v"
   ]
  },
  {
   "cell_type": "code",
   "execution_count": 24,
   "id": "f802264d",
   "metadata": {},
   "outputs": [
    {
     "data": {
      "text/plain": [
       "{'isim': 'Denis', 'soyad': 'Walker', 'ulke': 'Turkey', 'is': 'data scientist'}"
      ]
     },
     "execution_count": 24,
     "metadata": {},
     "output_type": "execute_result"
    }
   ],
   "source": [
    "d"
   ]
  },
  {
   "cell_type": "code",
   "execution_count": 25,
   "id": "71a9eea3",
   "metadata": {},
   "outputs": [
    {
     "data": {
      "text/plain": [
       "'Denis'"
      ]
     },
     "execution_count": 25,
     "metadata": {},
     "output_type": "execute_result"
    }
   ],
   "source": [
    "d[\"isim\"]"
   ]
  }
 ],
 "metadata": {
  "kernelspec": {
   "display_name": "Python 3 (ipykernel)",
   "language": "python",
   "name": "python3"
  },
  "language_info": {
   "codemirror_mode": {
    "name": "ipython",
    "version": 3
   },
   "file_extension": ".py",
   "mimetype": "text/x-python",
   "name": "python",
   "nbconvert_exporter": "python",
   "pygments_lexer": "ipython3",
   "version": "3.10.9"
  }
 },
 "nbformat": 4,
 "nbformat_minor": 5
}
