{
 "cells": [
  {
   "cell_type": "markdown",
   "id": "619b843a",
   "metadata": {},
   "source": [
    "Write a Python function find the length of the longest increasing sub-sequence in a list."
   ]
  },
  {
   "cell_type": "code",
   "execution_count": 1,
   "id": "d4cf871a",
   "metadata": {},
   "outputs": [],
   "source": [
    "def longest_increasing_subsequence(nums):\n",
    "    \n",
    "    n = len(nums)\n",
    "    \n",
    "    arr = [1] * n\n",
    "    \n",
    "    for i in range(1,n):\n",
    "        \n",
    "        for j in range(i):\n",
    "            \n",
    "            if nums[i] > nums[j]:\n",
    "                \n",
    "                arr[i] = max(arr[i], arr[j] + 1)\n",
    "                \n",
    "    return max(arr)"
   ]
  },
  {
   "cell_type": "code",
   "execution_count": 2,
   "id": "1610b875",
   "metadata": {},
   "outputs": [],
   "source": [
    "nums = [10, 20, 30, 40, 50, 60, 70, 80]"
   ]
  },
  {
   "cell_type": "code",
   "execution_count": 4,
   "id": "49919f51",
   "metadata": {},
   "outputs": [
    {
     "name": "stdout",
     "output_type": "stream",
     "text": [
      "Original list:\n",
      "[10, 20, 30, 40, 50, 60, 70, 80]\n"
     ]
    }
   ],
   "source": [
    "print(\"Original list:\")\n",
    "print(nums)"
   ]
  },
  {
   "cell_type": "code",
   "execution_count": 6,
   "id": "cdea1243",
   "metadata": {},
   "outputs": [
    {
     "name": "stdout",
     "output_type": "stream",
     "text": [
      "Length of the longest increasing sub-sequence in the said list:\n",
      "8\n"
     ]
    }
   ],
   "source": [
    "print(\"Length of the longest increasing sub-sequence in the said list:\")\n",
    "print(longest_increasing_subsequence(nums))"
   ]
  },
  {
   "cell_type": "code",
   "execution_count": 10,
   "id": "3149b0b1",
   "metadata": {},
   "outputs": [],
   "source": [
    "nums = [10, 20, 30, 40, 50, 30, 30, 20]"
   ]
  },
  {
   "cell_type": "code",
   "execution_count": 11,
   "id": "87df373c",
   "metadata": {},
   "outputs": [
    {
     "name": "stdout",
     "output_type": "stream",
     "text": [
      "Original list:\n",
      "[10, 20, 30, 40, 50, 30, 30, 20]\n"
     ]
    }
   ],
   "source": [
    "print(\"Original list:\")\n",
    "print(nums)"
   ]
  },
  {
   "cell_type": "code",
   "execution_count": 12,
   "id": "8b2adedf",
   "metadata": {},
   "outputs": [
    {
     "name": "stdout",
     "output_type": "stream",
     "text": [
      "Length of the longest increasing sub-sequence in the said list:\n",
      "5\n"
     ]
    }
   ],
   "source": [
    "print(\"Length of the longest increasing sub-sequence in the said list:\")\n",
    "print(longest_increasing_subsequence(nums))"
   ]
  },
  {
   "cell_type": "code",
   "execution_count": 7,
   "id": "1db6fee8",
   "metadata": {},
   "outputs": [],
   "source": [
    "nums = [-1, -2, -3, -4, -5, -11, -12, -13]"
   ]
  },
  {
   "cell_type": "code",
   "execution_count": 8,
   "id": "3f9538d0",
   "metadata": {},
   "outputs": [
    {
     "name": "stdout",
     "output_type": "stream",
     "text": [
      "Original list:\n",
      "[-1, -2, -3, -4, -5, -11, -12, -13]\n"
     ]
    }
   ],
   "source": [
    "print(\"Original list:\")\n",
    "print(nums)"
   ]
  },
  {
   "cell_type": "code",
   "execution_count": 9,
   "id": "e1213b30",
   "metadata": {},
   "outputs": [
    {
     "name": "stdout",
     "output_type": "stream",
     "text": [
      "Length of the longest increasing sub-sequence in the said list:\n",
      "1\n"
     ]
    }
   ],
   "source": [
    "print(\"Length of the longest increasing sub-sequence in the said list:\")\n",
    "print(longest_increasing_subsequence(nums))"
   ]
  }
 ],
 "metadata": {
  "kernelspec": {
   "display_name": "Python 3 (ipykernel)",
   "language": "python",
   "name": "python3"
  },
  "language_info": {
   "codemirror_mode": {
    "name": "ipython",
    "version": 3
   },
   "file_extension": ".py",
   "mimetype": "text/x-python",
   "name": "python",
   "nbconvert_exporter": "python",
   "pygments_lexer": "ipython3",
   "version": "3.10.9"
  }
 },
 "nbformat": 4,
 "nbformat_minor": 5
}
