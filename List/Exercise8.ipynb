{
 "cells": [
  {
   "cell_type": "markdown",
   "id": "a0488cde",
   "metadata": {},
   "source": [
    "Write a Python function to reverse a list at a specific location."
   ]
  },
  {
   "cell_type": "code",
   "execution_count": 7,
   "id": "54873639",
   "metadata": {},
   "outputs": [],
   "source": [
    "# Define a function to reverse a portion of a list in place\n",
    "def reverse_list_in_location(lst, start_pos, end_pos):\n",
    "    \n",
    "    while start_pos < end_pos:\n",
    "        \n",
    "        lst[start_pos], lst[end_pos] = lst[end_pos], lst[start_pos]\n",
    "        \n",
    "        start_pos += 1\n",
    "        end_pos -= 1\n",
    "        \n",
    "    return lst"
   ]
  },
  {
   "cell_type": "code",
   "execution_count": 8,
   "id": "d1e106b8",
   "metadata": {},
   "outputs": [],
   "source": [
    "nums = [10, 20, 30, 40, 50, 60, 70, 80]"
   ]
  },
  {
   "cell_type": "code",
   "execution_count": 9,
   "id": "05d1efce",
   "metadata": {},
   "outputs": [
    {
     "name": "stdout",
     "output_type": "stream",
     "text": [
      "Original list:\n",
      "[10, 20, 30, 40, 50, 60, 70, 80]\n"
     ]
    }
   ],
   "source": [
    "# Define the start and end positions for the first reverse operation\n",
    "start_pos  = 2\n",
    "end_pos = 4 \n",
    "\n",
    "print(\"Original list:\")\n",
    "print(nums)"
   ]
  },
  {
   "cell_type": "code",
   "execution_count": 10,
   "id": "65e17294",
   "metadata": {},
   "outputs": [
    {
     "name": "stdout",
     "output_type": "stream",
     "text": [
      "Reverse elements of the said list between index position 2 and 4\n"
     ]
    }
   ],
   "source": [
    "print(\"Reverse elements of the said list between index position \" + str(start_pos) + \" and \" + str(end_pos))"
   ]
  },
  {
   "cell_type": "code",
   "execution_count": 11,
   "id": "755412c1",
   "metadata": {},
   "outputs": [
    {
     "name": "stdout",
     "output_type": "stream",
     "text": [
      "[10, 20, 50, 40, 30, 60, 70, 80]\n"
     ]
    }
   ],
   "source": [
    "print(reverse_list_in_location(nums, start_pos, end_pos))"
   ]
  },
  {
   "cell_type": "code",
   "execution_count": 12,
   "id": "8475093b",
   "metadata": {},
   "outputs": [],
   "source": [
    "# Define the start and end positions for the third reverse operation\n",
    "\n",
    "start_pos = 0\n",
    "end_pos = 7"
   ]
  },
  {
   "cell_type": "code",
   "execution_count": 13,
   "id": "ad6f4151",
   "metadata": {},
   "outputs": [
    {
     "name": "stdout",
     "output_type": "stream",
     "text": [
      "\n",
      "Original list:\n",
      "[10, 20, 50, 40, 30, 60, 70, 80]\n",
      "Reverse elements of the said list between index position 0 and 7\n"
     ]
    }
   ],
   "source": [
    "print(\"\\nOriginal list:\")\n",
    "print(nums)\n",
    "print(\"Reverse elements of the said list between index position \" + str(start_pos) + \" and \" + str(end_pos))"
   ]
  },
  {
   "cell_type": "code",
   "execution_count": 14,
   "id": "c5612789",
   "metadata": {},
   "outputs": [
    {
     "name": "stdout",
     "output_type": "stream",
     "text": [
      "[80, 70, 60, 30, 40, 50, 20, 10]\n"
     ]
    }
   ],
   "source": [
    "print(reverse_list_in_location(nums, start_pos, end_pos)) "
   ]
  }
 ],
 "metadata": {
  "kernelspec": {
   "display_name": "Python 3 (ipykernel)",
   "language": "python",
   "name": "python3"
  },
  "language_info": {
   "codemirror_mode": {
    "name": "ipython",
    "version": 3
   },
   "file_extension": ".py",
   "mimetype": "text/x-python",
   "name": "python",
   "nbconvert_exporter": "python",
   "pygments_lexer": "ipython3",
   "version": "3.10.9"
  }
 },
 "nbformat": 4,
 "nbformat_minor": 5
}
