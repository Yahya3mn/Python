{
 "cells": [
  {
   "cell_type": "code",
   "execution_count": 1,
   "id": "eb523984",
   "metadata": {},
   "outputs": [],
   "source": [
    "import numpy as np"
   ]
  },
  {
   "cell_type": "markdown",
   "id": "46c6efe9",
   "metadata": {},
   "source": [
    "# Random Integer'lar ile Array Oluşturmak\n",
    "\n",
    "[low,high)"
   ]
  },
  {
   "cell_type": "code",
   "execution_count": 2,
   "id": "cf368a3d",
   "metadata": {},
   "outputs": [
    {
     "data": {
      "text/plain": [
       "array([[8, 3, 9, 2],\n",
       "       [6, 1, 9, 4],\n",
       "       [4, 3, 9, 3]])"
      ]
     },
     "execution_count": 2,
     "metadata": {},
     "output_type": "execute_result"
    }
   ],
   "source": [
    "np.random.randint(1,10,(3,4))"
   ]
  },
  {
   "cell_type": "code",
   "execution_count": 3,
   "id": "0c25feba",
   "metadata": {},
   "outputs": [
    {
     "data": {
      "text/plain": [
       "array([[[5, 2, 4, 1, 7],\n",
       "        [3, 7, 2, 4, 6],\n",
       "        [6, 4, 6, 4, 3],\n",
       "        [6, 9, 4, 4, 2],\n",
       "        [9, 3, 5, 7, 4]],\n",
       "\n",
       "       [[1, 4, 9, 7, 9],\n",
       "        [5, 2, 8, 4, 4],\n",
       "        [3, 4, 9, 7, 5],\n",
       "        [5, 7, 6, 5, 7],\n",
       "        [3, 6, 7, 7, 3]],\n",
       "\n",
       "       [[3, 4, 3, 9, 9],\n",
       "        [9, 2, 8, 6, 2],\n",
       "        [2, 1, 7, 8, 5],\n",
       "        [2, 9, 3, 8, 9],\n",
       "        [5, 4, 8, 2, 9]]])"
      ]
     },
     "execution_count": 3,
     "metadata": {},
     "output_type": "execute_result"
    }
   ],
   "source": [
    "np.random.randint(1,10,(3,5,5))"
   ]
  },
  {
   "cell_type": "code",
   "execution_count": 5,
   "id": "db21a771",
   "metadata": {},
   "outputs": [],
   "source": [
    "d = {}\n",
    "\n",
    "for _ in range(20000):\n",
    "    val = np.random.randint(1,11)\n",
    "    if val not in d:\n",
    "        d[val] = 1\n",
    "    else:\n",
    "        d[val] += 1"
   ]
  },
  {
   "cell_type": "code",
   "execution_count": 6,
   "id": "2f8b2e67",
   "metadata": {},
   "outputs": [
    {
     "data": {
      "text/plain": [
       "{9: 1978,\n",
       " 7: 2013,\n",
       " 4: 1993,\n",
       " 3: 2036,\n",
       " 8: 1900,\n",
       " 2: 2005,\n",
       " 10: 1995,\n",
       " 5: 2093,\n",
       " 6: 1980,\n",
       " 1: 2007}"
      ]
     },
     "execution_count": 6,
     "metadata": {},
     "output_type": "execute_result"
    }
   ],
   "source": [
    "d"
   ]
  }
 ],
 "metadata": {
  "kernelspec": {
   "display_name": "Python 3 (ipykernel)",
   "language": "python",
   "name": "python3"
  },
  "language_info": {
   "codemirror_mode": {
    "name": "ipython",
    "version": 3
   },
   "file_extension": ".py",
   "mimetype": "text/x-python",
   "name": "python",
   "nbconvert_exporter": "python",
   "pygments_lexer": "ipython3",
   "version": "3.10.9"
  }
 },
 "nbformat": 4,
 "nbformat_minor": 5
}
