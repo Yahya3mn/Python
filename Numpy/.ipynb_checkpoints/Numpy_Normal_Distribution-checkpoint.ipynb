{
 "cells": [
  {
   "cell_type": "code",
   "execution_count": 1,
   "id": "dbf59355",
   "metadata": {},
   "outputs": [],
   "source": [
    "import numpy as np"
   ]
  },
  {
   "cell_type": "markdown",
   "id": "79053390",
   "metadata": {},
   "source": [
    "# Normal Distribution'dan Çekilmiş Değerler ile Array Oluşturmak\n",
    "\n",
    "(mean, std, array size)"
   ]
  },
  {
   "cell_type": "code",
   "execution_count": 2,
   "id": "5a3326ff",
   "metadata": {},
   "outputs": [
    {
     "data": {
      "text/plain": [
       "array([[-0.7749065 ,  0.26128191,  1.2429482 ,  1.25228492,  0.62213483],\n",
       "       [ 1.2714816 , -0.43970419, -1.525862  , -0.01740691, -0.42657773],\n",
       "       [ 0.23506995, -0.42949384,  0.39974605, -0.11674991,  0.26346343],\n",
       "       [-0.97374074,  0.36384394,  0.97950329,  0.01478417, -0.46180488]])"
      ]
     },
     "execution_count": 2,
     "metadata": {},
     "output_type": "execute_result"
    }
   ],
   "source": [
    "np.random.normal(0,1,(4,5))"
   ]
  },
  {
   "cell_type": "code",
   "execution_count": 3,
   "id": "2013edcb",
   "metadata": {},
   "outputs": [
    {
     "data": {
      "text/plain": [
       "array([[  -0.45286295,  -22.86104634,  -63.06902748,   75.44845796,\n",
       "          88.74388913],\n",
       "       [  54.22906087,   49.16337346,  -89.20539654,  114.68585995,\n",
       "          62.6359404 ],\n",
       "       [ -37.77493566, -108.88085891,  165.60369845,  -93.494275  ,\n",
       "          76.41558686],\n",
       "       [ -46.21124182,  -57.37318062,   83.56758261,   57.46021425,\n",
       "         153.44972093]])"
      ]
     },
     "execution_count": 3,
     "metadata": {},
     "output_type": "execute_result"
    }
   ],
   "source": [
    "np.random.normal(0,100,(4,5))"
   ]
  },
  {
   "cell_type": "code",
   "execution_count": 4,
   "id": "2481b544",
   "metadata": {},
   "outputs": [
    {
     "data": {
      "text/plain": [
       "array([[-142.81251532,   43.07025623,   66.17107924,  -38.96244368,\n",
       "          13.00752614],\n",
       "       [ -75.06882658,  -60.70469148,  -38.88632043,  -76.03317244,\n",
       "         247.33657135],\n",
       "       [ 236.7151159 ,  -54.05705529,  -11.56596623,   37.52231949,\n",
       "           0.83463931],\n",
       "       [ -15.19637927,   54.53924596,  -48.82136373,  -16.61543027,\n",
       "          65.88425472]])"
      ]
     },
     "execution_count": 4,
     "metadata": {},
     "output_type": "execute_result"
    }
   ],
   "source": [
    "np.random.normal(10,100,(4,5))"
   ]
  },
  {
   "cell_type": "code",
   "execution_count": 5,
   "id": "46a961d0",
   "metadata": {},
   "outputs": [
    {
     "data": {
      "text/plain": [
       "array([[10.25017581, 10.24600911, 10.0945243 , 10.74151302, 10.44813   ],\n",
       "       [10.57767102,  9.79623264, 11.58196322,  9.82896982, 11.64285184],\n",
       "       [11.39916317,  9.81559024, 10.77512471,  9.29989738,  9.9563832 ],\n",
       "       [ 8.9354291 , 10.31558945,  8.53356864, 11.1533938 ,  9.94194766]])"
      ]
     },
     "execution_count": 5,
     "metadata": {},
     "output_type": "execute_result"
    }
   ],
   "source": [
    "np.random.normal(10,1,(4,5))"
   ]
  }
 ],
 "metadata": {
  "kernelspec": {
   "display_name": "Python 3 (ipykernel)",
   "language": "python",
   "name": "python3"
  },
  "language_info": {
   "codemirror_mode": {
    "name": "ipython",
    "version": 3
   },
   "file_extension": ".py",
   "mimetype": "text/x-python",
   "name": "python",
   "nbconvert_exporter": "python",
   "pygments_lexer": "ipython3",
   "version": "3.10.9"
  }
 },
 "nbformat": 4,
 "nbformat_minor": 5
}
