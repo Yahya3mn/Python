{
 "cells": [
  {
   "cell_type": "markdown",
   "id": "433fd7fe",
   "metadata": {},
   "source": [
    "Write a Python program that accepts a sequence of comma-separated numbers from the user and generates a list and a tuple of those numbers.\n",
    "\n",
    "Sample data: 3, 5, 7, 23\n",
    "\n",
    "Python list:\n",
    "\n",
    "A list is a container which holds comma separated values (items or elements) between square brackets where items or elements need not all have the same type. In general, we can define a list as an object that contains multiple data items (elements). The contents of a list can be changed during program execution. The size of a list can also change during execution, as elements are added or removed from it.\n",
    "\n",
    "Python tuple:\n",
    "\n",
    "A tuple is container which holds a series of comma separated values (items or elements) between parentheses such as an (x, y) co-ordinate. Tuples are like lists, except they are immutable (i.e. you cannot change its content once created) and can hold mix data types.\n",
    "\n",
    "Sample data : 3, 5, 7, 23\n",
    "Output :\n",
    "List : ['3', ' 5', ' 7', ' 23']\n",
    "Tuple : ('3', ' 5', ' 7', ' 23')"
   ]
  },
  {
   "cell_type": "code",
   "execution_count": 1,
   "id": "f178e87b",
   "metadata": {},
   "outputs": [
    {
     "name": "stdout",
     "output_type": "stream",
     "text": [
      "Input some comma-seperated numbers: 3,5,7,23\n"
     ]
    }
   ],
   "source": [
    "values = input(\"Input some comma-seperated numbers: \")"
   ]
  },
  {
   "cell_type": "code",
   "execution_count": 2,
   "id": "a484e846",
   "metadata": {},
   "outputs": [],
   "source": [
    "list = values.split(\",\")"
   ]
  },
  {
   "cell_type": "code",
   "execution_count": 3,
   "id": "2151c1bf",
   "metadata": {},
   "outputs": [],
   "source": [
    "tuple = tuple(list)"
   ]
  },
  {
   "cell_type": "code",
   "execution_count": 4,
   "id": "ce01debd",
   "metadata": {},
   "outputs": [
    {
     "name": "stdout",
     "output_type": "stream",
     "text": [
      "List :  ['3', '5', '7', '23']\n"
     ]
    }
   ],
   "source": [
    "print(\"List : \",list)"
   ]
  },
  {
   "cell_type": "code",
   "execution_count": 5,
   "id": "572f1e2e",
   "metadata": {},
   "outputs": [
    {
     "name": "stdout",
     "output_type": "stream",
     "text": [
      "Tuple ('3', '5', '7', '23')\n"
     ]
    }
   ],
   "source": [
    "print(\"Tuple\",tuple)"
   ]
  }
 ],
 "metadata": {
  "kernelspec": {
   "display_name": "Python 3 (ipykernel)",
   "language": "python",
   "name": "python3"
  },
  "language_info": {
   "codemirror_mode": {
    "name": "ipython",
    "version": 3
   },
   "file_extension": ".py",
   "mimetype": "text/x-python",
   "name": "python",
   "nbconvert_exporter": "python",
   "pygments_lexer": "ipython3",
   "version": "3.10.9"
  }
 },
 "nbformat": 4,
 "nbformat_minor": 5
}
