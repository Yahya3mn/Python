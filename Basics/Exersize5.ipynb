{
 "cells": [
  {
   "cell_type": "markdown",
   "id": "1eca9b13",
   "metadata": {},
   "source": [
    "Write a Python program that accepts a filename from the user and prints the extension of the file.\n",
    "\n",
    "Sample filename: abc.java\n",
    "\n",
    "Python str.rsplit(sep=None, maxsplit=-1) function:\n",
    "\n",
    "str.split(sep=None, maxsplit=-1)\n",
    "\n",
    "Return a list of the words in the string, using sep as the delimiter string. If maxsplit is given, at most maxsplit splits are done (thus, the list will have at most maxsplit+1 elements). If maxsplit is not specified or -1, then there is no limit on the number of splits (all possible splits are made).\n",
    "\n",
    "If sep is given, consecutive delimiters are not grouped together and are deemed to delimit empty strings (for example, '1,,2'.split(',') returns ['1', '', '2']). The sep argument may consist of multiple characters (for example, '1<>2<>3'.split('<>') returns ['1', '2', '3']). Splitting an empty string with a specified separator returns [''].\n",
    "If sep is not specified or is None, a different splitting algorithm is applied: runs of consecutive whitespace are regarded as a single separator, and the result will contain no empty strings at the start or end if the string has leading or trailing whitespace. Consequently, splitting an empty string or a string consisting of just whitespace with a None separator returns [].\n",
    "For example, ' 1 2 3 '.split() returns ['1', '2', '3'], and ' 1 2 3 '.split(None, 1) returns ['1', '2 3 '].\n",
    "\n",
    "The function returns a list of the words of a given string using a separator as the delimiter string.\n",
    "\n",
    "If maxsplit is given, the list will have at most maxsplit+1 elements.\n",
    "If maxsplit is not specified or -1, then there is no limit on the number of splits.\n",
    "If sep is given, consecutive delimiters are not grouped together and are deemed to delimit empty strings.\n",
    "The sep argument may consist of multiple characters.\n",
    "Splitting an empty string with a specified separator returns ['']."
   ]
  },
  {
   "cell_type": "code",
   "execution_count": 1,
   "id": "52d81e65",
   "metadata": {},
   "outputs": [
    {
     "name": "stdout",
     "output_type": "stream",
     "text": [
      "Input the Filename: abc.java\n"
     ]
    }
   ],
   "source": [
    "filename = input(\"Input the Filename: \")"
   ]
  },
  {
   "cell_type": "code",
   "execution_count": 2,
   "id": "c9112e17",
   "metadata": {},
   "outputs": [],
   "source": [
    "f_extns = filename.split(\".\")"
   ]
  },
  {
   "cell_type": "code",
   "execution_count": 3,
   "id": "da11c98f",
   "metadata": {},
   "outputs": [
    {
     "name": "stdout",
     "output_type": "stream",
     "text": [
      "The extension of the file is : 'java'\n"
     ]
    }
   ],
   "source": [
    "print(\"The extension of the file is : \" + repr(f_extns[-1]))"
   ]
  }
 ],
 "metadata": {
  "kernelspec": {
   "display_name": "Python 3 (ipykernel)",
   "language": "python",
   "name": "python3"
  },
  "language_info": {
   "codemirror_mode": {
    "name": "ipython",
    "version": 3
   },
   "file_extension": ".py",
   "mimetype": "text/x-python",
   "name": "python",
   "nbconvert_exporter": "python",
   "pygments_lexer": "ipython3",
   "version": "3.10.9"
  }
 },
 "nbformat": 4,
 "nbformat_minor": 5
}
