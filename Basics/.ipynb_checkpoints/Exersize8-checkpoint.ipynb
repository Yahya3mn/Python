{
 "cells": [
  {
   "cell_type": "markdown",
   "id": "ec24804e",
   "metadata": {},
   "source": [
    "Write a Python program that prints the calendar for a given month and year.\n",
    "\n",
    "Note: Use 'calendar' module.\n",
    "\n",
    "Python calendar.month(theyear, themonth, w=0, l=0):\n",
    "\n",
    "The function returns a month’s calendar in a multi-line string using the formatmonth() of the TextCalendar class.\n",
    "\n",
    "'l' specifies the number of lines that each week will use."
   ]
  },
  {
   "cell_type": "code",
   "execution_count": 1,
   "id": "38348b0e",
   "metadata": {},
   "outputs": [],
   "source": [
    "import calendar"
   ]
  },
  {
   "cell_type": "code",
   "execution_count": 2,
   "id": "ded655c2",
   "metadata": {},
   "outputs": [
    {
     "name": "stdout",
     "output_type": "stream",
     "text": [
      "Enter the year : 2024\n"
     ]
    }
   ],
   "source": [
    "# Prompt the user to input the year and month\n",
    "y = int(input(\"Enter the year : \"))"
   ]
  },
  {
   "cell_type": "code",
   "execution_count": 3,
   "id": "6c5a0123",
   "metadata": {},
   "outputs": [
    {
     "name": "stdout",
     "output_type": "stream",
     "text": [
      "Enter the month : 02\n"
     ]
    }
   ],
   "source": [
    "m = int(input(\"Enter the month : \"))"
   ]
  },
  {
   "cell_type": "code",
   "execution_count": 5,
   "id": "b37a7b2a",
   "metadata": {},
   "outputs": [
    {
     "name": "stdout",
     "output_type": "stream",
     "text": [
      "   February 2024\n",
      "Mo Tu We Th Fr Sa Su\n",
      "          1  2  3  4\n",
      " 5  6  7  8  9 10 11\n",
      "12 13 14 15 16 17 18\n",
      "19 20 21 22 23 24 25\n",
      "26 27 28 29\n",
      "\n"
     ]
    }
   ],
   "source": [
    "print(calendar.month(y , m))"
   ]
  }
 ],
 "metadata": {
  "kernelspec": {
   "display_name": "Python 3 (ipykernel)",
   "language": "python",
   "name": "python3"
  },
  "language_info": {
   "codemirror_mode": {
    "name": "ipython",
    "version": 3
   },
   "file_extension": ".py",
   "mimetype": "text/x-python",
   "name": "python",
   "nbconvert_exporter": "python",
   "pygments_lexer": "ipython3",
   "version": "3.10.9"
  }
 },
 "nbformat": 4,
 "nbformat_minor": 5
}
