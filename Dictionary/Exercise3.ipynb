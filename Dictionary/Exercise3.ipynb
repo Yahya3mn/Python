{
 "cells": [
  {
   "cell_type": "markdown",
   "id": "46ea65ef",
   "metadata": {},
   "source": [
    "Write a Python program to create a dictionary from a string.\n",
    "\n",
    "Note: Track the count of the letters from the string."
   ]
  },
  {
   "cell_type": "code",
   "execution_count": 1,
   "id": "dd2a856a",
   "metadata": {},
   "outputs": [],
   "source": [
    "from collections import defaultdict, Counter"
   ]
  },
  {
   "cell_type": "code",
   "execution_count": 2,
   "id": "3e0564b4",
   "metadata": {},
   "outputs": [],
   "source": [
    "str1 = 'w3resource'"
   ]
  },
  {
   "cell_type": "code",
   "execution_count": 3,
   "id": "997a4704",
   "metadata": {},
   "outputs": [],
   "source": [
    "my_dict = {}"
   ]
  },
  {
   "cell_type": "code",
   "execution_count": 4,
   "id": "7c58b06f",
   "metadata": {},
   "outputs": [],
   "source": [
    "for letter in str1:\n",
    "    \n",
    "    my_dict[letter] = my_dict.get(letter, 0) + 1"
   ]
  },
  {
   "cell_type": "code",
   "execution_count": 5,
   "id": "8d0d2ae6",
   "metadata": {},
   "outputs": [
    {
     "name": "stdout",
     "output_type": "stream",
     "text": [
      "{'w': 1, '3': 1, 'r': 2, 'e': 2, 's': 1, 'o': 1, 'u': 1, 'c': 1}\n"
     ]
    }
   ],
   "source": [
    "print(my_dict)"
   ]
  }
 ],
 "metadata": {
  "kernelspec": {
   "display_name": "Python 3 (ipykernel)",
   "language": "python",
   "name": "python3"
  },
  "language_info": {
   "codemirror_mode": {
    "name": "ipython",
    "version": 3
   },
   "file_extension": ".py",
   "mimetype": "text/x-python",
   "name": "python",
   "nbconvert_exporter": "python",
   "pygments_lexer": "ipython3",
   "version": "3.10.9"
  }
 },
 "nbformat": 4,
 "nbformat_minor": 5
}
