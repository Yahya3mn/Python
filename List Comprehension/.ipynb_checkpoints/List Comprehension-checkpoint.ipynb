{
 "cells": [
  {
   "cell_type": "markdown",
   "id": "d756319d",
   "metadata": {},
   "source": [
    "# List Comprehension"
   ]
  },
  {
   "cell_type": "markdown",
   "id": "05d14a68",
   "metadata": {},
   "source": [
    "### List Comprehensions\n",
    "\n",
    "\n",
    "    Yine o yeni bir şey öğrenmediğimiz ama yaptığımız şeyleri daha farklı ve kolay yapmayı öğrendiğimiz bir konudayız.\n",
    "\n",
    "\n",
    "    Diyelim ki 1'den 10'a kadar olan sayıların karelerinden bir liste oluşturmak istiyorum. Bunu aşağıdaki gibi yapabilirim."
   ]
  },
  {
   "cell_type": "code",
   "execution_count": 1,
   "id": "b155f10d",
   "metadata": {},
   "outputs": [],
   "source": [
    "squares = []\n",
    "\n",
    "for i in range(1,11):\n",
    "    squares.append(i*i)"
   ]
  },
  {
   "cell_type": "code",
   "execution_count": 2,
   "id": "51937abf",
   "metadata": {},
   "outputs": [
    {
     "data": {
      "text/plain": [
       "[1, 4, 9, 16, 25, 36, 49, 64, 81, 100]"
      ]
     },
     "execution_count": 2,
     "metadata": {},
     "output_type": "execute_result"
    }
   ],
   "source": [
    "squares"
   ]
  },
  {
   "cell_type": "markdown",
   "id": "de33e8a0",
   "metadata": {},
   "source": [
    "    Bunun aynısını list comprehension kullanarak da yapabiliriz."
   ]
  },
  {
   "cell_type": "code",
   "execution_count": 3,
   "id": "55c29a3d",
   "metadata": {},
   "outputs": [],
   "source": [
    "squares = [i * i for i in range(1,11)]"
   ]
  },
  {
   "cell_type": "code",
   "execution_count": 4,
   "id": "b19b976a",
   "metadata": {},
   "outputs": [
    {
     "data": {
      "text/plain": [
       "[1, 4, 9, 16, 25, 36, 49, 64, 81, 100]"
      ]
     },
     "execution_count": 4,
     "metadata": {},
     "output_type": "execute_result"
    }
   ],
   "source": [
    "squares"
   ]
  },
  {
   "cell_type": "code",
   "execution_count": 6,
   "id": "e67f8c0c",
   "metadata": {},
   "outputs": [],
   "source": [
    "# list comprehension ve fonksiyon mantığını birleştirme\n",
    "def cube(x):\n",
    "    return x**3"
   ]
  },
  {
   "cell_type": "code",
   "execution_count": 7,
   "id": "006f3203",
   "metadata": {},
   "outputs": [],
   "source": [
    "cubes = [cube(x) for x in range(1,11)]"
   ]
  },
  {
   "cell_type": "code",
   "execution_count": 8,
   "id": "6e2c8ace",
   "metadata": {},
   "outputs": [
    {
     "data": {
      "text/plain": [
       "[1, 8, 27, 64, 125, 216, 343, 512, 729, 1000]"
      ]
     },
     "execution_count": 8,
     "metadata": {},
     "output_type": "execute_result"
    }
   ],
   "source": [
    "cubes"
   ]
  },
  {
   "cell_type": "markdown",
   "id": "4119e0ac",
   "metadata": {},
   "source": [
    "### List Comprehension'larda Conditional Yapıların Kullanılması"
   ]
  },
  {
   "cell_type": "code",
   "execution_count": 9,
   "id": "8a147038",
   "metadata": {},
   "outputs": [],
   "source": [
    "squares = [1, 4, 9, 16, 25, 36, 49, 64, 81, 100]"
   ]
  },
  {
   "cell_type": "code",
   "execution_count": 10,
   "id": "a3d25723",
   "metadata": {},
   "outputs": [
    {
     "name": "stdout",
     "output_type": "stream",
     "text": [
      "[1, 4, 9, 16, 25, 36, 49, 64, 81, 100]\n"
     ]
    }
   ],
   "source": [
    "print(squares)"
   ]
  },
  {
   "cell_type": "code",
   "execution_count": 11,
   "id": "9bb54d1a",
   "metadata": {},
   "outputs": [],
   "source": [
    "odd_squares = []\n",
    "\n",
    "for e in squares:\n",
    "    if e % 2 == 1:\n",
    "        odd_squares.append(e)"
   ]
  },
  {
   "cell_type": "code",
   "execution_count": 12,
   "id": "d371f605",
   "metadata": {},
   "outputs": [
    {
     "data": {
      "text/plain": [
       "[1, 9, 25, 49, 81]"
      ]
     },
     "execution_count": 12,
     "metadata": {},
     "output_type": "execute_result"
    }
   ],
   "source": [
    "odd_squares"
   ]
  },
  {
   "cell_type": "code",
   "execution_count": 13,
   "id": "fdb1c154",
   "metadata": {},
   "outputs": [],
   "source": [
    "# squares listindeki tek elemanlardan yeni bir liste yaratmak\n",
    "odd_squares = [e for e in squares if e % 2 == 1]"
   ]
  },
  {
   "cell_type": "code",
   "execution_count": 14,
   "id": "1fa38cc6",
   "metadata": {},
   "outputs": [
    {
     "data": {
      "text/plain": [
       "[1, 9, 25, 49, 81]"
      ]
     },
     "execution_count": 14,
     "metadata": {},
     "output_type": "execute_result"
    }
   ],
   "source": [
    "odd_squares"
   ]
  },
  {
   "cell_type": "code",
   "execution_count": 15,
   "id": "6f1d3a08",
   "metadata": {},
   "outputs": [],
   "source": [
    "# bu test mantığını fonksiyonla da sağlayabilirdik\n",
    "def is_odd(x):\n",
    "    if x % 2 == 0:\n",
    "        return False\n",
    "    if x % 2 == 1:\n",
    "        return True"
   ]
  },
  {
   "cell_type": "code",
   "execution_count": 16,
   "id": "1cd62650",
   "metadata": {},
   "outputs": [],
   "source": [
    "odd_squares = [e for e in squares if is_odd(e)]"
   ]
  },
  {
   "cell_type": "code",
   "execution_count": 17,
   "id": "8a3e1e04",
   "metadata": {},
   "outputs": [
    {
     "data": {
      "text/plain": [
       "[1, 9, 25, 49, 81]"
      ]
     },
     "execution_count": 17,
     "metadata": {},
     "output_type": "execute_result"
    }
   ],
   "source": [
    "odd_squares"
   ]
  },
  {
   "cell_type": "code",
   "execution_count": 18,
   "id": "f6e0ba23",
   "metadata": {},
   "outputs": [],
   "source": [
    "def empty(x):\n",
    "    if x % 2 == 0:\n",
    "        return False\n",
    "    if x % 2 == 1:\n",
    "        return False"
   ]
  },
  {
   "cell_type": "code",
   "execution_count": 19,
   "id": "629861c3",
   "metadata": {},
   "outputs": [],
   "source": [
    "empty_squares = [e for e in squares if empty(e)]"
   ]
  },
  {
   "cell_type": "code",
   "execution_count": 20,
   "id": "9dd4c27d",
   "metadata": {},
   "outputs": [
    {
     "data": {
      "text/plain": [
       "[]"
      ]
     },
     "execution_count": 20,
     "metadata": {},
     "output_type": "execute_result"
    }
   ],
   "source": [
    "empty_squares"
   ]
  },
  {
   "cell_type": "code",
   "execution_count": 21,
   "id": "0d800e07",
   "metadata": {},
   "outputs": [],
   "source": [
    "def is_even(x):\n",
    "    if x % 2 == 0:\n",
    "        return True\n",
    "    if x % 2 == 1:\n",
    "        return False"
   ]
  },
  {
   "cell_type": "code",
   "execution_count": 22,
   "id": "9d4d5570",
   "metadata": {},
   "outputs": [],
   "source": [
    "Even = [e for e in squares if is_even(e)]"
   ]
  },
  {
   "cell_type": "code",
   "execution_count": 23,
   "id": "19027e20",
   "metadata": {},
   "outputs": [
    {
     "data": {
      "text/plain": [
       "[4, 16, 36, 64, 100]"
      ]
     },
     "execution_count": 23,
     "metadata": {},
     "output_type": "execute_result"
    }
   ],
   "source": [
    "Even"
   ]
  },
  {
   "cell_type": "code",
   "execution_count": 24,
   "id": "b4bfce16",
   "metadata": {},
   "outputs": [
    {
     "data": {
      "text/plain": [
       "[1, 4, 9, 16, 25, 36, 49, 64, 81, 100]"
      ]
     },
     "execution_count": 24,
     "metadata": {},
     "output_type": "execute_result"
    }
   ],
   "source": [
    "squares"
   ]
  },
  {
   "cell_type": "code",
   "execution_count": 25,
   "id": "91ce3b43",
   "metadata": {},
   "outputs": [],
   "source": [
    "weird_squares = [e if e % 2 == 0 else -1 for e in squares]"
   ]
  },
  {
   "cell_type": "code",
   "execution_count": 26,
   "id": "02269641",
   "metadata": {},
   "outputs": [
    {
     "data": {
      "text/plain": [
       "[-1, 4, -1, 16, -1, 36, -1, 64, -1, 100]"
      ]
     },
     "execution_count": 26,
     "metadata": {},
     "output_type": "execute_result"
    }
   ],
   "source": [
    "weird_squares"
   ]
  },
  {
   "cell_type": "code",
   "execution_count": 27,
   "id": "3a6e9b4a",
   "metadata": {},
   "outputs": [],
   "source": [
    "ultra_weird_squares = [e if e % 2 == 0 else -1 for e in squares if is_even(e)]"
   ]
  },
  {
   "cell_type": "code",
   "execution_count": 28,
   "id": "78f65049",
   "metadata": {},
   "outputs": [
    {
     "data": {
      "text/plain": [
       "[4, 16, 36, 64, 100]"
      ]
     },
     "execution_count": 28,
     "metadata": {},
     "output_type": "execute_result"
    }
   ],
   "source": [
    "ultra_weird_squares"
   ]
  },
  {
   "cell_type": "markdown",
   "id": "4f1fb75e",
   "metadata": {},
   "source": [
    "### Set Comprehension"
   ]
  },
  {
   "cell_type": "code",
   "execution_count": 29,
   "id": "b42c4f25",
   "metadata": {},
   "outputs": [],
   "source": [
    "numbers = [1,2,3,4,5,6,7,1,2]"
   ]
  },
  {
   "cell_type": "code",
   "execution_count": 31,
   "id": "ef5466b1",
   "metadata": {},
   "outputs": [],
   "source": [
    "set_numbers = {s for s in numbers if s in [1,2,3,4,5,6,7,1,2]}"
   ]
  },
  {
   "cell_type": "code",
   "execution_count": 32,
   "id": "b8841fd0",
   "metadata": {},
   "outputs": [
    {
     "data": {
      "text/plain": [
       "{1, 2, 3, 4, 5, 6, 7}"
      ]
     },
     "execution_count": 32,
     "metadata": {},
     "output_type": "execute_result"
    }
   ],
   "source": [
    "set_numbers"
   ]
  },
  {
   "cell_type": "markdown",
   "id": "3d5a525b",
   "metadata": {},
   "source": [
    "### Dictionary Comprehension\n"
   ]
  },
  {
   "cell_type": "code",
   "execution_count": 33,
   "id": "063f8c80",
   "metadata": {},
   "outputs": [],
   "source": [
    "square_dict = {e:e * e for e in range(1,11)}"
   ]
  },
  {
   "cell_type": "code",
   "execution_count": 34,
   "id": "29629af1",
   "metadata": {},
   "outputs": [
    {
     "data": {
      "text/plain": [
       "{1: 1, 2: 4, 3: 9, 4: 16, 5: 25, 6: 36, 7: 49, 8: 64, 9: 81, 10: 100}"
      ]
     },
     "execution_count": 34,
     "metadata": {},
     "output_type": "execute_result"
    }
   ],
   "source": [
    "square_dict"
   ]
  },
  {
   "cell_type": "code",
   "execution_count": 35,
   "id": "e6bddbf2",
   "metadata": {},
   "outputs": [
    {
     "data": {
      "text/plain": [
       "81"
      ]
     },
     "execution_count": 35,
     "metadata": {},
     "output_type": "execute_result"
    }
   ],
   "source": [
    "square_dict[9]"
   ]
  },
  {
   "cell_type": "markdown",
   "id": "949fbdb8",
   "metadata": {},
   "source": [
    "### Nested List Comprehension"
   ]
  },
  {
   "cell_type": "code",
   "execution_count": 36,
   "id": "84877e38",
   "metadata": {},
   "outputs": [],
   "source": [
    "m = [[j for j in range(7)] for i in range(5)]\n",
    "#m = [[j for j in range(7)] for _ in range(5)]"
   ]
  },
  {
   "cell_type": "code",
   "execution_count": 37,
   "id": "236451ad",
   "metadata": {},
   "outputs": [
    {
     "data": {
      "text/plain": [
       "[[0, 1, 2, 3, 4, 5, 6],\n",
       " [0, 1, 2, 3, 4, 5, 6],\n",
       " [0, 1, 2, 3, 4, 5, 6],\n",
       " [0, 1, 2, 3, 4, 5, 6],\n",
       " [0, 1, 2, 3, 4, 5, 6]]"
      ]
     },
     "execution_count": 37,
     "metadata": {},
     "output_type": "execute_result"
    }
   ],
   "source": [
    "m"
   ]
  },
  {
   "cell_type": "code",
   "execution_count": 38,
   "id": "54b1b02e",
   "metadata": {},
   "outputs": [],
   "source": [
    "m = [[10, 11, 12], [13, 14], [15, 16, 17, 18]] "
   ]
  },
  {
   "cell_type": "code",
   "execution_count": 39,
   "id": "3ba92fb8",
   "metadata": {},
   "outputs": [
    {
     "name": "stdout",
     "output_type": "stream",
     "text": [
      "[10, 11, 12]\n",
      "[13, 14]\n",
      "[15, 16, 17, 18]\n"
     ]
    }
   ],
   "source": [
    "for l in m:\n",
    "    print(l)"
   ]
  },
  {
   "cell_type": "code",
   "execution_count": 40,
   "id": "96ed6f3f",
   "metadata": {},
   "outputs": [
    {
     "name": "stdout",
     "output_type": "stream",
     "text": [
      "[10, 11, 12]\n",
      "10\n",
      "11\n",
      "12\n",
      "[13, 14]\n",
      "13\n",
      "14\n",
      "[15, 16, 17, 18]\n",
      "15\n",
      "16\n",
      "17\n",
      "18\n"
     ]
    }
   ],
   "source": [
    "new_m = []\n",
    "for l in m:\n",
    "    print(l)\n",
    "    for e in l:\n",
    "        new_m.append(e)\n",
    "        print(e)"
   ]
  },
  {
   "cell_type": "code",
   "execution_count": 41,
   "id": "dc3d52b9",
   "metadata": {},
   "outputs": [
    {
     "data": {
      "text/plain": [
       "[10, 11, 12, 13, 14, 15, 16, 17, 18]"
      ]
     },
     "execution_count": 41,
     "metadata": {},
     "output_type": "execute_result"
    }
   ],
   "source": [
    "new_m"
   ]
  },
  {
   "cell_type": "code",
   "execution_count": 42,
   "id": "2e59a911",
   "metadata": {},
   "outputs": [
    {
     "data": {
      "text/plain": [
       "[[10, 11, 12], [13, 14], [15, 16, 17, 18]]"
      ]
     },
     "execution_count": 42,
     "metadata": {},
     "output_type": "execute_result"
    }
   ],
   "source": [
    "m"
   ]
  },
  {
   "cell_type": "code",
   "execution_count": 43,
   "id": "2235bf13",
   "metadata": {},
   "outputs": [],
   "source": [
    "# matrixi list comprehension ile flat etmek\n",
    "flatten_m = [e for l in m for e in l]"
   ]
  },
  {
   "cell_type": "code",
   "execution_count": 44,
   "id": "6c265db9",
   "metadata": {},
   "outputs": [
    {
     "data": {
      "text/plain": [
       "[10, 11, 12, 13, 14, 15, 16, 17, 18]"
      ]
     },
     "execution_count": 44,
     "metadata": {},
     "output_type": "execute_result"
    }
   ],
   "source": [
    "flatten_m"
   ]
  },
  {
   "cell_type": "code",
   "execution_count": 45,
   "id": "c4225745",
   "metadata": {},
   "outputs": [],
   "source": [
    "# Sadece çift değerleri kabul edecek\n",
    "flatten_m = [e for l in m for e in l if e % 2 == 0]"
   ]
  },
  {
   "cell_type": "code",
   "execution_count": 46,
   "id": "efc864dd",
   "metadata": {},
   "outputs": [
    {
     "data": {
      "text/plain": [
       "[10, 12, 14, 16, 18]"
      ]
     },
     "execution_count": 46,
     "metadata": {},
     "output_type": "execute_result"
    }
   ],
   "source": [
    "flatten_m"
   ]
  }
 ],
 "metadata": {
  "kernelspec": {
   "display_name": "Python 3 (ipykernel)",
   "language": "python",
   "name": "python3"
  },
  "language_info": {
   "codemirror_mode": {
    "name": "ipython",
    "version": 3
   },
   "file_extension": ".py",
   "mimetype": "text/x-python",
   "name": "python",
   "nbconvert_exporter": "python",
   "pygments_lexer": "ipython3",
   "version": "3.10.9"
  }
 },
 "nbformat": 4,
 "nbformat_minor": 5
}
